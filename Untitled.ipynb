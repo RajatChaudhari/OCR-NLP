{
 "cells": [
  {
   "cell_type": "code",
   "execution_count": 1,
   "metadata": {},
   "outputs": [],
   "source": [
    "from PIL import Image\n",
    "import pytesseract\n",
    "import argparse\n",
    "import cv2\n",
    "import os\n",
    "from pdf2image import convert_from_path\n",
    "#import pdf2image"
   ]
  },
  {
   "cell_type": "code",
   "execution_count": 4,
   "metadata": {},
   "outputs": [],
   "source": [
    "# Path of the pdf \n",
    "PDF_file = \"../VIM/invoices/GST_INVOICE3.pdf\"\n",
    "  \n",
    "''' \n",
    "Part #1 : Converting PDF to images \n",
    "'''\n",
    "  \n",
    "# Store all the pages of the PDF in a variable \n",
    "pages = convert_from_path(PDF_file, 500)\n",
    "  \n",
    "# Counter to store images of each page of PDF to image \n",
    "image_counter = 1\n",
    "  \n",
    "# Iterate through all the pages stored above \n",
    "for page in pages: \n",
    "  \n",
    "    # Declaring filename for each page of PDF as JPG \n",
    "    # For each page, filename will be: \n",
    "    # PDF page 1 -> page_1.jpg \n",
    "    # PDF page 2 -> page_2.jpg \n",
    "    # PDF page 3 -> page_3.jpg \n",
    "    # .... \n",
    "    # PDF page n -> page_n.jpg \n",
    "    filename = \"GST_INVOICE3_\"+str(image_counter)+\".jpg\"\n",
    "      \n",
    "    # Save the image of the page in system \n",
    "    page.save(filename, 'JPEG') \n",
    "  \n",
    "    # Increment the counter to update filename \n",
    "    image_counter = image_counter + 1"
   ]
  },
  {
   "cell_type": "code",
   "execution_count": null,
   "metadata": {},
   "outputs": [],
   "source": [
    "\"\"\"from wand.image import Image\n",
    "\n",
    "f = \"UK_PO_CEB_UK_IDEA2.pdf\"\n",
    "with(Image(filename=f, resolution=120)) as source: \n",
    "    images = source.sequence\n",
    "    pages = len(images)\n",
    "    for i in range(pages):\n",
    "        n = i + 1\n",
    "        newfilename = f[:-4] + str(n) + '.jpeg'\n",
    "        Image(images[i]).save(filename=newfilename)\"\"\""
   ]
  },
  {
   "cell_type": "code",
   "execution_count": 8,
   "metadata": {},
   "outputs": [],
   "source": [
    "#text1 = pytesseract.image_to_string(Image.open(\"GST_INVOICE2_1.jpg\"))\n",
    "#text2 = pytesseract.image_to_string(Image.open(\"GST_INVOICE3_1.jpg\"))\n",
    "\n",
    "text1 = pytesseract.image_to_string(\"GST_INVOICE2_1.jpg\", lang='eng', config='--psm 4')\n",
    "text2 = pytesseract.image_to_string(\"GST_INVOICE3_1.jpg\", lang='eng', config='--psm 4')"
   ]
  },
  {
   "cell_type": "code",
   "execution_count": 10,
   "metadata": {},
   "outputs": [
    {
     "name": "stdout",
     "output_type": "stream",
     "text": [
      "ABC AUTOMOTIVE PRODUCTS\n",
      "\n",
      "GOLDEN INDUSTRIAL ESTATE - 1 PLOT NO 68 SHAPAR RAJKOT\n",
      "EMAIL : abcautomotive@gmail.nom PHN : 02827 297236\n",
      "\n",
      "Debit Memo TAX INVOICE Original\n",
      "\n",
      "XYZ Global Pvt Ltd Invoice No. : MR109\n",
      "AJI GIDC OPP SWAGAT WEIGH, BRIDGE GIDC \"N\" |Date : 06/12/2018\n",
      "\n",
      "PLOT NO 346\n",
      "\n",
      "RAJKOT - 360003 | PO NO. : 7445336989.01\n",
      "Place of Supply : 24-Gujarat PO DATE. : 25/04/2018\n",
      "GSTIN No. : 24AACCG 1233C1ZF\n",
      "\n",
      "HSN/SAC GST %\n",
      "CYLINDER LINER 5569 84199949 2106 28.00% 452790\n",
      "\n",
      "CYLINDER LINER 5896 84099949 1670 28.00% 472610\n",
      "GSTIN No : 24AAVFN2183P1Z1 3776 Sub Total 925400\n",
      "\n",
      "Bank Name : STATE BANK OF INDIA\n",
      "Bank A/C NO. : 32907101389\n",
      "RTGS/1FSC Code : SBIN0060344\n",
      "\n",
      "Taxable Amount 925400\n",
      "CGST 14.00% 129556\n",
      "Total GST : Two Lakh Fifty Nine Thousand One Hundred Twelve Only SCSI 14.00% 129556\n",
      "Bill Amount : Eleven Lakh Eighty Four Thousand Five Hundred Twelve Only\n",
      "\n",
      "Grand Total 11,84,512\n"
     ]
    }
   ],
   "source": [
    "print(text1)"
   ]
  },
  {
   "cell_type": "code",
   "execution_count": 26,
   "metadata": {},
   "outputs": [
    {
     "data": {
      "text/plain": [
       "str"
      ]
     },
     "execution_count": 26,
     "metadata": {},
     "output_type": "execute_result"
    }
   ],
   "source": [
    "type(text)"
   ]
  },
  {
   "cell_type": "code",
   "execution_count": 7,
   "metadata": {},
   "outputs": [],
   "source": [
    "text2 = pytesseract.image_to_string(Image.open(\"page_2.jpg\"))"
   ]
  },
  {
   "cell_type": "code",
   "execution_count": 8,
   "metadata": {},
   "outputs": [
    {
     "name": "stdout",
     "output_type": "stream",
     "text": [
      "Quantity\n",
      "\n",
      "Description Unit Unit Price Amount\n",
      "Fingerprint Scanner Pro Sense X-I PC £34.50 £69.00\n",
      "Notebook WebCam PC £120.00 £600.00\n",
      "Touchscreen Display (Multi Touch) PC £51.00 £408.00\n"
     ]
    }
   ],
   "source": [
    "print(text2)"
   ]
  },
  {
   "cell_type": "code",
   "execution_count": null,
   "metadata": {},
   "outputs": [],
   "source": []
  },
  {
   "cell_type": "code",
   "execution_count": null,
   "metadata": {},
   "outputs": [],
   "source": []
  },
  {
   "cell_type": "code",
   "execution_count": null,
   "metadata": {},
   "outputs": [],
   "source": []
  },
  {
   "cell_type": "code",
   "execution_count": 27,
   "metadata": {},
   "outputs": [
    {
     "data": {
      "text/plain": [
       "'To:\\nInnovate UK LTD.\\nDashwood House\\n\\nLondon\\nEC2M 1QS\\n\\nQuantity Description\\n2 Fingerprint Scanner Pro Sense X-I\\n5 Notebook WebCam\\n8 Touchscreen Display (Multi Touch)\\n\\nC.E.B. UK Ltd.\\n\\n3, Johnson Road\\nLondon, EC1V OBN\\nTel: +44 20189291\\n\\nInvoice\\n\\nInvoice date: 28/08/2019\\nInvoice Number: GH12345\\nPayment Terms: 30 days\\nDue Date: 27/09/2019\\nCurrency: GBP\\n\\nPO No.: 4500000873\\n\\nShip to:\\n\\nInnovate UK LTD.\\nDashwood House\\nLondon\\n\\nEC2M 1QS\\n\\nUnit Unit Price\\nPC £34.50\\nPC £120.00\\nPC £51.00\\n\\nHandling costs\\nFreight expenses\\n\\nNet\\nVAT 20 %\\n\\nTotal\\n\\nBank: — Royal Bank of Scotland Plc IBAN: GB35CITI1 8500807678686 VAT Reg. No.: GB591819014\\n\\nEmail: — http: info@ceb-online.uk\\n\\nAmount\\n\\n£69.00\\n£600.00\\n£408.00\\n\\n£0.00\\n£0.00\\n\\n£1,077.00\\n£215.40\\n\\n£1,292.40'"
      ]
     },
     "execution_count": 27,
     "metadata": {},
     "output_type": "execute_result"
    }
   ],
   "source": [
    "text"
   ]
  },
  {
   "cell_type": "markdown",
   "metadata": {},
   "source": [
    "# Processing image to find table"
   ]
  },
  {
   "cell_type": "code",
   "execution_count": 3,
   "metadata": {},
   "outputs": [],
   "source": [
    "import os\n",
    "import cv2\n",
    "import imutils\n",
    "\n",
    "# This only works if there's only one table on a page\n",
    "# Important parameters:\n",
    "#  - morph_size\n",
    "#  - min_text_height_limit\n",
    "#  - max_text_height_limit\n",
    "#  - cell_threshold\n",
    "#  - min_columns\n",
    "\n",
    "\n",
    "def pre_process_image(img, save_in_file, morph_size=(8, 8)):\n",
    "\n",
    "    # get rid of the color\n",
    "    pre = cv2.cvtColor(img, cv2.COLOR_BGR2GRAY)\n",
    "    # Otsu threshold\n",
    "    pre = cv2.threshold(pre, 250, 255, cv2.THRESH_BINARY | cv2.THRESH_OTSU)[1]\n",
    "    # dilate the text to make it solid spot\n",
    "    cpy = pre.copy()\n",
    "    struct = cv2.getStructuringElement(cv2.MORPH_RECT, morph_size)\n",
    "    cpy = cv2.dilate(~cpy, struct, anchor=(-1, -1), iterations=1)\n",
    "    pre = ~cpy\n",
    "\n",
    "    if save_in_file is not None:\n",
    "        cv2.imwrite(save_in_file, pre)\n",
    "    return pre\n",
    "\n",
    "\n",
    "def find_text_boxes(pre, min_text_height_limit=6, max_text_height_limit=100):\n",
    "    # Looking for the text spots contours\n",
    "    # OpenCV 3\n",
    "    img, contours, hierarchy = cv2.findContours(pre, cv2.RETR_LIST, cv2.CHAIN_APPROX_SIMPLE)\n",
    "    # OpenCV 4\n",
    "    #contours, hierarchy = cv2.findContours(pre, cv2.RETR_LIST, cv2.CHAIN_APPROX_SIMPLE)\n",
    "\n",
    "    # Getting the texts bounding boxes based on the text size assumptions\n",
    "    boxes = []\n",
    "    for contour in contours:\n",
    "        box = cv2.boundingRect(contour)\n",
    "        h = box[3]\n",
    "\n",
    "        if min_text_height_limit < h < max_text_height_limit:\n",
    "            boxes.append(box)\n",
    "\n",
    "    return boxes\n",
    "\n",
    "\n",
    "def find_table_in_boxes(boxes, cell_threshold=10, min_columns=2):\n",
    "    rows = {}\n",
    "    cols = {}\n",
    "\n",
    "    # Clustering the bounding boxes by their positions\n",
    "    for box in boxes:\n",
    "        (x, y, w, h) = box\n",
    "        col_key = x // cell_threshold\n",
    "        row_key = y // cell_threshold\n",
    "        cols[row_key] = [box] if col_key not in cols else cols[col_key] + [box]\n",
    "        rows[row_key] = [box] if row_key not in rows else rows[row_key] + [box]\n",
    "\n",
    "    # Filtering out the clusters having less than 2 cols\n",
    "    table_cells = list(filter(lambda r: len(r) >= min_columns, rows.values()))\n",
    "    # Sorting the row cells by x coord\n",
    "    table_cells = [list(sorted(tb)) for tb in table_cells]\n",
    "    # Sorting rows by the y coord\n",
    "    table_cells = list(sorted(table_cells, key=lambda r: r[0][1]))\n",
    "\n",
    "    return table_cells\n",
    "\n",
    "\n",
    "def build_lines(table_cells):\n",
    "    if table_cells is None or len(table_cells) <= 0:\n",
    "        return [], []\n",
    "\n",
    "    max_last_col_width_row = max(table_cells, key=lambda b: b[-1][2])\n",
    "    max_x = max_last_col_width_row[-1][0] + max_last_col_width_row[-1][2]\n",
    "\n",
    "    max_last_row_height_box = max(table_cells[-1], key=lambda b: b[3])\n",
    "    max_y = max_last_row_height_box[1] + max_last_row_height_box[3]\n",
    "\n",
    "    hor_lines = []\n",
    "    ver_lines = []\n",
    "\n",
    "    for box in table_cells:\n",
    "        x = box[0][0]\n",
    "        y = box[0][1]\n",
    "        hor_lines.append((x, y, max_x, y))\n",
    "\n",
    "    for box in table_cells[0]:\n",
    "        x = box[0]\n",
    "        y = box[1]\n",
    "        ver_lines.append((x, y, x, max_y))\n",
    "\n",
    "    (x, y, w, h) = table_cells[0][-1]\n",
    "    ver_lines.append((max_x, y, max_x, max_y))\n",
    "    (x, y, w, h) = table_cells[0][0]\n",
    "    hor_lines.append((x, max_y, max_x, max_y))\n",
    "\n",
    "    return hor_lines, ver_lines"
   ]
  },
  {
   "cell_type": "code",
   "execution_count": 5,
   "metadata": {},
   "outputs": [
    {
     "data": {
      "text/plain": [
       "True"
      ]
     },
     "execution_count": 5,
     "metadata": {},
     "output_type": "execute_result"
    }
   ],
   "source": [
    "\n",
    "in_file = os.path.join(\"../\", \"page_1.jpg\")\n",
    "pre_file = os.path.join(\"../VIM/\", \"pre.png\")\n",
    "out_file = os.path.join(\"../VIM/\", \"out.png\")\n",
    "\n",
    "img = cv2.imread(os.path.join(\"page_1.jpg\"))\n",
    "\n",
    "pre_processed = pre_process_image(img, pre_file)\n",
    "text_boxes = find_text_boxes(pre_processed)\n",
    "cells = find_table_in_boxes(text_boxes)\n",
    "hor_lines, ver_lines = build_lines(cells)\n",
    "\n",
    "# Visualize the result\n",
    "vis = img.copy()\n",
    "\n",
    "# for box in text_boxes:\n",
    "#     (x, y, w, h) = box\n",
    "#     cv2.rectangle(vis, (x, y), (x + w - 2, y + h - 2), (0, 255, 0), 1)\n",
    "\n",
    "for line in hor_lines:\n",
    "    [x1, y1, x2, y2] = line\n",
    "    cv2.line(vis, (x1, y1), (x2, y2), (0, 0, 255), 1)\n",
    "\n",
    "for line in ver_lines:\n",
    "    [x1, y1, x2, y2] = line\n",
    "    cv2.line(vis, (x1, y1), (x2, y2), (0, 0, 255), 1)\n",
    "\n",
    "cv2.imwrite(out_file, vis)"
   ]
  },
  {
   "cell_type": "code",
   "execution_count": 40,
   "metadata": {},
   "outputs": [],
   "source": [
    "#cv2.imshow(\"output\",vis)"
   ]
  },
  {
   "cell_type": "markdown",
   "metadata": {},
   "source": [
    "# Processing image to find horizontal lines"
   ]
  },
  {
   "cell_type": "code",
   "execution_count": 24,
   "metadata": {},
   "outputs": [],
   "source": [
    "import cv2\n",
    "import matplotlib.pyplot as plt\n",
    "import numpy as np\n",
    "import math\n",
    "%matplotlib inline"
   ]
  },
  {
   "cell_type": "code",
   "execution_count": 12,
   "metadata": {},
   "outputs": [],
   "source": [
    "img = cv2.imread(os.path.join(\"page_1.jpg\"))\n",
    "# get rid of the color\n",
    "pre = cv2.cvtColor(img, cv2.COLOR_BGR2GRAY)\n",
    "# Otsu threshold\n",
    "pre = cv2.threshold(pre, 250, 255, cv2.THRESH_BINARY | cv2.THRESH_OTSU)[1]\n",
    "# dilate the text to make it solid spot\n",
    "cpy = pre.copy()\n",
    "struct = cv2.getStructuringElement(cv2.MORPH_RECT, (8,8))\n",
    "cpy = cv2.dilate(~cpy, struct, anchor=(-1, -1), iterations=1)\n",
    "pre = ~cpy"
   ]
  },
  {
   "cell_type": "code",
   "execution_count": 16,
   "metadata": {},
   "outputs": [
    {
     "data": {
      "text/plain": [
       "<matplotlib.image.AxesImage at 0x2a23d48c128>"
      ]
     },
     "execution_count": 16,
     "metadata": {},
     "output_type": "execute_result"
    },
    {
     "data": {
      "image/png": "[encoded data removed]",
      "text/plain": [
       "<Figure size 432x288 with 1 Axes>"
      ]
     },
     "metadata": {
      "needs_background": "light"
     },
     "output_type": "display_data"
    }
   ],
   "source": [
    "plt.imshow(pre)"
   ]
  },
  {
   "cell_type": "code",
   "execution_count": 20,
   "metadata": {},
   "outputs": [],
   "source": [
    "lines = cv2.HoughLinesP(image=pre, rho=1, theta=np.pi / 180, threshold=100,minLineLength=100, maxLineGap=0)"
   ]
  },
  {
   "cell_type": "code",
   "execution_count": 21,
   "metadata": {},
   "outputs": [],
   "source": [
    "for i in range(0, len(lines)):\n",
    "    for x1, y1, x2, y2 in lines[i]:\n",
    "        cv2.line(img, (x1, y1), (x2, y2), (0, 255, 0), 2)"
   ]
  },
  {
   "cell_type": "code",
   "execution_count": 22,
   "metadata": {},
   "outputs": [
    {
     "data": {
      "text/plain": [
       "<matplotlib.image.AxesImage at 0x2a23d570518>"
      ]
     },
     "execution_count": 22,
     "metadata": {},
     "output_type": "execute_result"
    },
    {
     "data": {
      "image/png": "[encoded data removed]",
      "text/plain": [
       "<Figure size 432x288 with 1 Axes>"
      ]
     },
     "metadata": {
      "needs_background": "light"
     },
     "output_type": "display_data"
    }
   ],
   "source": [
    "plt.imshow(img)"
   ]
  },
  {
   "cell_type": "code",
   "execution_count": 25,
   "metadata": {},
   "outputs": [
    {
     "data": {
      "text/plain": [
       "<matplotlib.image.AxesImage at 0x2a23d5cbfd0>"
      ]
     },
     "execution_count": 25,
     "metadata": {},
     "output_type": "execute_result"
    },
    {
     "data": {
      "image/png": "[encoded data removed]",
      "text/plain": [
       "<Figure size 432x288 with 1 Axes>"
      ]
     },
     "metadata": {
      "needs_background": "light"
     },
     "output_type": "display_data"
    }
   ],
   "source": [
    "edges = cv2.Canny(pre, 80, 120)\n",
    "lines = cv2.HoughLinesP(edges, 1, math.pi/2, 2, None, 30, 1);\n",
    "for line in lines[0]:\n",
    "    pt1 = (line[0],line[1])\n",
    "    pt2 = (line[2],line[3])\n",
    "    cv2.line(img, pt1, pt2, (0,0,255), 3)\n",
    "plt.imshow(img)"
   ]
  },
  {
   "cell_type": "markdown",
   "metadata": {},
   "source": [
    "# working with different tesseract parameters"
   ]
  },
  {
   "cell_type": "code",
   "execution_count": 17,
   "metadata": {},
   "outputs": [],
   "source": [
    "from PIL import Image\n",
    "import pytesseract\n",
    "import argparse\n",
    "import cv2\n",
    "import os\n",
    "from pdf2image import convert_from_path\n"
   ]
  },
  {
   "cell_type": "code",
   "execution_count": null,
   "metadata": {},
   "outputs": [],
   "source": [
    "text1 = pytesseract.image_to_string(\"GST_INVOICE2_1.jpg\", lang='eng', config='--psm 4')\n",
    "text2 = pytesseract.image_to_string(\"GST_INVOICE3_1.jpg\", lang='eng', config='--psm 4')"
   ]
  },
  {
   "cell_type": "code",
   "execution_count": 18,
   "metadata": {},
   "outputs": [],
   "source": [
    "text3 = pytesseract.image_to_string(\"page_1.jpg\", lang='eng', config='--psm 4')\n"
   ]
  },
  {
   "cell_type": "code",
   "execution_count": 19,
   "metadata": {},
   "outputs": [
    {
     "name": "stdout",
     "output_type": "stream",
     "text": [
      "C.E.B. UK Ltd.\n",
      "\n",
      "3, Johnson Road\n",
      "London, EC1V OBN\n",
      "\n",
      "Tel: +44 20189291\n",
      "\n",
      "Invoice\n",
      "\n",
      "Invoice date: 28/08/2019\n",
      "Invoice Number: GH12345\n",
      "Payment Terms: 30 days\n",
      "Due Date: 27/09/2019\n",
      "Currency: GBP\n",
      "PO No.: 4500000873\n",
      "To: Ship to:\n",
      "Innovate UK LTD. Innovate UK LTD.\n",
      "Dashwood House Dashwood House\n",
      "London London\n",
      "EC2M 1QS EC2M 1QS\n",
      "Quantity Description Unit Unit Price\n",
      "2 Fingerprint Scanner Pro Sense X-I PC £34.50\n",
      "5 Notebook WebCam PC £120.00\n",
      "8 Touchscreen Display (Multi Touch) PC £51.00\n",
      "\n",
      "Bank: — Royal Bank of Scotland Plc\n",
      "Email: — http: info@ceb-online.uk\n",
      "\n",
      "Handling costs\n",
      "\n",
      "Freight expenses\n",
      "\n",
      "Net\n",
      "\n",
      "VAT 20 %\n",
      "Total\n",
      "\n",
      "IBAN: GB35CITI1 8500807678686\n",
      "\n",
      "VAT Reg. No.: GB591819014\n",
      "\n",
      "Amount\n",
      "£69.00\n",
      "\n",
      "£600.00\n",
      "£408.00\n",
      "\n",
      "£0.00\n",
      "£0.00\n",
      "\n",
      "£1,077.00\n",
      "£215.40\n",
      "\n",
      "£1,292.40\n"
     ]
    }
   ],
   "source": [
    "print(text3)"
   ]
  },
  {
   "cell_type": "code",
   "execution_count": null,
   "metadata": {},
   "outputs": [],
   "source": []
  },
  {
   "cell_type": "code",
   "execution_count": null,
   "metadata": {},
   "outputs": [],
   "source": []
  },
  {
   "cell_type": "markdown",
   "metadata": {},
   "source": [
    "# Sample Invoices"
   ]
  },
  {
   "cell_type": "code",
   "execution_count": 2,
   "metadata": {},
   "outputs": [],
   "source": [
    "text = pytesseract.image_to_string(\"../VIM/invoices/invoice-legend.png\", lang='eng', config='--psm 4')\n",
    "text1 = pytesseract.image_to_string(\"../VIM/invoices/invoice2png.png\", lang='eng', config='--psm 4')\n",
    "text2 = pytesseract.image_to_string(\"../VIM/invoices/invoice3.png\", lang='eng', config='--psm 4')\n",
    "text3 = pytesseract.image_to_string(\"../VIM/invoices/invoice4.png\", lang='eng', config='--psm 4')\n",
    "text4 = pytesseract.image_to_string(\"../VIM/invoices/invoice5.png\", lang='eng', config='--psm 4')\n",
    "text5 = pytesseract.image_to_string(\"../VIM/invoices/invoice6.png\", lang='eng', config='--psm 4')\n",
    "text6 = pytesseract.image_to_string(\"../VIM/invoices/invoice7.png\", lang='eng', config='--psm 4')"
   ]
  },
  {
   "cell_type": "code",
   "execution_count": 4,
   "metadata": {},
   "outputs": [
    {
     "name": "stdout",
     "output_type": "stream",
     "text": [
      "TWILIO\n",
      "\n",
      "u™ SendGrid\n",
      "\n",
      "1801 California Street, Suite 500\n",
      "Denver, Colorado 80202\n",
      "Phone: +1 (877) 969-8647\n",
      "\n",
      "INVOICE\n",
      "\n",
      "SOLDTO INVOICE SUMMARY BILLING OVERVIEW\n",
      "Hot Moose Web Design Invoice Date: Aug 01, 2019 Sub-Total: $239.95\n",
      "55 Moostache Tri., Invoice Number: INV04389745\n",
      "\n",
      "Vamomoose, Colorado 80202 ‘Account Number: 9421 421 Tax: $4,71\n",
      "United States Payment Terms: Due Upon Receipt\n",
      "\n",
      "Balance Due: $244.66\n",
      "anomymoose@hotmoose.com\n",
      "\n",
      " \n",
      "\n",
      "CHARGE SUMMARY\n",
      "Charge Name Description Service Period Subtotal Tax Total\n",
      "\n",
      "Contact List Storage Contact list database usage for SendGrid 07/01/2019-07/31/2019 $10.00 $0.43 $10.43\n",
      "\n",
      "Marketing Campaigns - $10 per 10k contacts\n",
      "Email Testing Credits 30 additional Email Testing credits per 08/01/2019-08/31/2019 $18.00 $0.78 $18.78\n",
      "- 30 Credits/Mo month, used for inbox rendering and spam.\n",
      "\n",
      "testing,\n",
      "Marketing Campaigns Includes 5,000 Marketing Campaigns 07/01/2019-07/31/2019 $4.00 $0.17 $417\n",
      "Basic 5K contacts and 15,000 Marketing Campaigns\n",
      "\n",
      "email credits per month. $0.004 per\n",
      "additional contact or additional email send.\n",
      "Marketing Campaigns Includes 5,000 Marketing Campaigns 08/01/2019-08/31/2019 $15.00 $0.65, $15.65\n",
      "Basic 5K contacts and 15,000 Marketing Campaigns\n",
      "email credits per month. $0.004 per\n",
      "additional contact or additional email send.\n",
      "Marketing Campaigns _ Includes 5,000 Marketing Campaigns 07/01/2019-07/31/2019 $20.00 $0.86 $20.86\n",
      "Basic SK contacts and 15,000 Marketing Campaigns\n",
      "email credits per month. $0.004 per\n",
      "additional contact or additional email send.\n",
      "\n",
      " \n",
      "\n",
      " \n",
      "\n",
      "Pro 100K Pro 100K includes 100,000 email credits per 08/01/2019-08/31/2019 $79.95 $0.00 $79.95\n",
      "month, $0.00085 per email thereafter.\n",
      "Pro 100K Pro 100K includes 100,000 email credits per 07/01/2019-07/31/2019 $51.00 $0.00 $51.00\n",
      "month, $0.00085 per email thereafter.\n",
      "IP Address $30 Dedicated IP Address 08/01/2019-08/31/2019 $30.00 $1.30 $31.30\n",
      "Email Activity History 30 day email activity history and API access 08/01/2019-08/31/2019 $12.00 $0.52 $12.52\n",
      "- Pro 100K: 30 Days\n",
      "USAGE SUMMARY\n",
      "Usage Name Allowance Used jable Rate Service Period Total\n",
      "Pro 100K Overage 100,000 160,000 60,000 0.00085 07/01/2019-07/31/2019 $51.00\n",
      "Marketing Campaigns 5,000 6,000 1,000 0.004 07/01/2019-07/31/2019 $4.17\n",
      "Basic SK - Contacts\n",
      "Overage\n",
      "Marketing Campaigns 15,000 20,000 5,000 0.004 07/01/2019-07/31/2019 $20.86\n",
      "Basic 5K - Send Overage\n",
      "Contact List Usage ° 1 1 07/01/2019-07/31/2019 $10.43\n",
      "Tiered\n",
      "TRANSACTION SUMMARY\n",
      "Type Date Number Description Amount\n",
      "\n",
      " \n",
      "\n",
      "PAYMENT SUMMARY\n",
      "\n",
      "Type Date Number Method Description ‘Amount\n"
     ]
    }
   ],
   "source": [
    "print(text)"
   ]
  },
  {
   "cell_type": "code",
   "execution_count": 19,
   "metadata": {},
   "outputs": [
    {
     "name": "stdout",
     "output_type": "stream",
     "text": [
      "East Repair Inc. INVOICE\n",
      "\n",
      "1912 Harvest Lane\n",
      "New York, NY 12210\n",
      "\n",
      "Bill To Ship To Invoice # us-001\n",
      "John Smith John Smith Invoice Date 1102/2019\n",
      "2 Court Square 3787 Pineview Drive\n",
      "New York, NY 12210 Cambridge, MA 12210 Poe 2312/2019\n",
      "Due Date 26/02/2019\n",
      "ary DESCRIPTION UNIT PRICE ‘AMOUNT\n",
      "1 Front and rear brake cables 100.00 100.00\n",
      "2 | New set of pedal arms 15.00 30.00\n",
      "3° | Labor 3hrs 5.00 15.00\n",
      "Subtotal 145.00\n",
      "Sales Tax 6.25% 9.06\n",
      "TOTAL $154.06\n",
      "Terms & Conditions\n",
      "\n",
      "Payment is due within 15 days\n",
      "\n",
      "Please make checks payable to: East Repair Inc.\n"
     ]
    }
   ],
   "source": [
    "print(text2)"
   ]
  },
  {
   "cell_type": "code",
   "execution_count": 20,
   "metadata": {},
   "outputs": [
    {
     "name": "stdout",
     "output_type": "stream",
     "text": [
      "ZYLKAR CORPORATION PRO FORMA INVOICE\n",
      "1561 Appleview Town Invoice: #00121\n",
      "Bakers Street July 21,2015\n",
      "Chicago, IL 60411\n",
      "\n",
      " \n",
      "\n",
      "Bill to: Ship To: Shipping Details:\n",
      "\n",
      "Alistair Burke Angeline Campbell Freight Type Air\n",
      "\n",
      "1156 High Street 6040 Bandini Blvd Est Ship Date July 27, 2015\n",
      "\n",
      "Santa Cruz, CA 95064 Los Angeles, CA 92061 Est Gross Weight 300 kg\n",
      "\n",
      "800-555-0121 888-555-2235 Total Packages 10\n",
      "\n",
      "ID Product Description Qty Unit Price Amount (in USD)\n",
      "\n",
      "1 Ream of Paper 5 $50 $250.00\n",
      "\n",
      "2 Desk 5 $100 $500.00\n",
      "\n",
      "3 Windows Workstation 5 $1000 $5000.00\n",
      "\n",
      "Thank you for your business ! Subtotal $5750.00\n",
      "Tax Rate 5.00%\n",
      "Freight $100.00\n",
      "ate) <-||\n",
      "\n",
      "Signature / Stamp\n",
      "\n",
      "Place:\n",
      "\n",
      "Date\n",
      "\n",
      "Powered by (RX! Invoice\n"
     ]
    }
   ],
   "source": [
    "print(text3)"
   ]
  },
  {
   "cell_type": "code",
   "execution_count": 21,
   "metadata": {},
   "outputs": [
    {
     "name": "stdout",
     "output_type": "stream",
     "text": [
      "CREDIT NOTE\n",
      "\n",
      "#CN-17\n",
      "\n",
      "Credits Remaining\n",
      "\n",
      "$562.750\n",
      "Zylker\n",
      "7455 Drew Court\n",
      "White City\n",
      "Kansas\n",
      "66872\n",
      "USA\n",
      "270-510-0585\n",
      "\n",
      "Bill To\n",
      "\n",
      "Rob & Joe Traders\n",
      "\n",
      "4141 Hacienda Drive\n",
      "\n",
      "Pleasanton Credit Date : 29 Jun 2018\n",
      "\n",
      "94588 CA .\n",
      "USA Refi : 321014\n",
      "\n",
      " \n",
      "\n",
      "1 Brochure Design 1.00 300,000 300.000\n",
      "Brochure Design Single Sided Color\n",
      "\n",
      "2 Web Design Packages(Template) - Basic 1,00 250.000 250.000\n",
      "Custom Themes for your business. Inclusive of 10 hours of\n",
      "marketing and annual training\n",
      "\n",
      "3 Print Ad - Basic - Color 1.00 80.000 80.000\n",
      "Print Ad 1/8 size Color\n",
      "\n",
      "Sub Total 630.000\n",
      "\n",
      "Sample Tax! (4.70%) 11.750\n",
      "Sample Tax2 (7.00%) 21.000\n",
      "Total $662.750\n",
      "\n",
      "Credits Used (-) 100.000\n",
      "Credits Remaining $562.750\n",
      "\n",
      "Notes\n",
      "\n",
      "Thanks for your business.\n",
      "\n",
      "Terms & Conditions\n",
      "\n",
      "Your company's Terms and Conditions will be displayed here. You can add it in the Credit notes Preferences page under Settings.\n"
     ]
    }
   ],
   "source": [
    "print(text4)"
   ]
  },
  {
   "cell_type": "code",
   "execution_count": 22,
   "metadata": {},
   "outputs": [
    {
     "name": "stdout",
     "output_type": "stream",
     "text": [
      "& Pay Invoice Online Download PDF Questions about this invoice? Contact us\n",
      "Acme, Inc. Invoice Number #1785439\n",
      "103 Majestic Way\n",
      "Raleigh, NC 27606 Issue Date 2018-02-01\n",
      "\n",
      "Due Date 2018-02-01\n",
      "\n",
      "Bill To: jo} U) $210.07\n",
      "\n",
      "Nathanael Erdman\n",
      "75839 Nolan Crossroad\n",
      "North Lethamouth, TX 78205\n",
      "\n",
      "Item Quantity Unit Price ‘Amount\n",
      "\n",
      "Pro! 1 $99.00 $99.00\n",
      "02/01/2018 - 03/01/2018\n",
      "\n",
      "IP Addresses 10 $1.00 $10.00\n",
      "Minutes? 1398 $0.10 $139.80\n",
      "Subtotal $248.80\n",
      "Discount(s) Applied:\n",
      "Discounts ($38.73)\n",
      "1. 25% Off Plan Fee $24.75 Total $210.07\n",
      "2. 10% Off Minutes $13.98\n",
      "Paid $0.00\n",
      "Due $210.07\n",
      "\n",
      "Payment History\n"
     ]
    }
   ],
   "source": [
    "print(text5)"
   ]
  },
  {
   "cell_type": "code",
   "execution_count": 24,
   "metadata": {},
   "outputs": [
    {
     "data": {
      "text/plain": [
       "str"
      ]
     },
     "execution_count": 24,
     "metadata": {},
     "output_type": "execute_result"
    }
   ],
   "source": [
    "type(text4)"
   ]
  },
  {
   "cell_type": "code",
   "execution_count": null,
   "metadata": {},
   "outputs": [],
   "source": []
  },
  {
   "cell_type": "markdown",
   "metadata": {},
   "source": [
    "# Named entity Recognition"
   ]
  },
  {
   "cell_type": "code",
   "execution_count": 41,
   "metadata": {},
   "outputs": [
    {
     "name": "stdout",
     "output_type": "stream",
     "text": [
      "Requirement already satisfied: spacy in c:\\d\\installations\\anaconda\\lib\\site-packages (2.2.1)\n",
      "Requirement already satisfied: preshed<3.1.0,>=3.0.2 in c:\\d\\installations\\anaconda\\lib\\site-packages (from spacy) (3.0.2)\n",
      "Requirement already satisfied: blis<0.5.0,>=0.4.0 in c:\\d\\installations\\anaconda\\lib\\site-packages (from spacy) (0.4.1)\n",
      "Requirement already satisfied: requests<3.0.0,>=2.13.0 in c:\\d\\installations\\anaconda\\lib\\site-packages (from spacy) (2.22.0)\n",
      "Requirement already satisfied: cymem<2.1.0,>=2.0.2 in c:\\d\\installations\\anaconda\\lib\\site-packages (from spacy) (2.0.2)\n",
      "Requirement already satisfied: plac<1.0.0,>=0.9.6 in c:\\d\\installations\\anaconda\\lib\\site-packages (from spacy) (0.9.6)\n",
      "Requirement already satisfied: numpy>=1.15.0 in c:\\d\\installations\\anaconda\\lib\\site-packages (from spacy) (1.17.1)\n",
      "Requirement already satisfied: thinc<7.2.0,>=7.1.1 in c:\\d\\installations\\anaconda\\lib\\site-packages (from spacy) (7.1.1)\n",
      "Requirement already satisfied: wasabi<1.1.0,>=0.2.0 in c:\\d\\installations\\anaconda\\lib\\site-packages (from spacy) (0.2.2)\n",
      "Requirement already satisfied: murmurhash<1.1.0,>=0.28.0 in c:\\d\\installations\\anaconda\\lib\\site-packages (from spacy) (1.0.2)\n",
      "Requirement already satisfied: srsly<1.1.0,>=0.1.0 in c:\\d\\installations\\anaconda\\lib\\site-packages (from spacy) (0.1.0)\n",
      "Requirement already satisfied: certifi>=2017.4.17 in c:\\d\\installations\\anaconda\\lib\\site-packages (from requests<3.0.0,>=2.13.0->spacy) (2019.6.16)\n",
      "Requirement already satisfied: idna<2.9,>=2.5 in c:\\d\\installations\\anaconda\\lib\\site-packages (from requests<3.0.0,>=2.13.0->spacy) (2.8)\n",
      "Requirement already satisfied: urllib3!=1.25.0,!=1.25.1,<1.26,>=1.21.1 in c:\\d\\installations\\anaconda\\lib\\site-packages (from requests<3.0.0,>=2.13.0->spacy) (1.25.6)\n",
      "Requirement already satisfied: chardet<3.1.0,>=3.0.2 in c:\\d\\installations\\anaconda\\lib\\site-packages (from requests<3.0.0,>=2.13.0->spacy) (3.0.4)\n",
      "Requirement already satisfied: tqdm<5.0.0,>=4.10.0 in c:\\d\\installations\\anaconda\\lib\\site-packages (from thinc<7.2.0,>=7.1.1->spacy) (4.36.1)\n"
     ]
    }
   ],
   "source": [
    "!pip install spacy"
   ]
  },
  {
   "cell_type": "code",
   "execution_count": 42,
   "metadata": {},
   "outputs": [
    {
     "name": "stdout",
     "output_type": "stream",
     "text": [
      "Collecting en_core_web_sm==2.2.0 from https://github.com/explosion/spacy-models/releases/download/en_core_web_sm-2.2.0/en_core_web_sm-2.2.0.tar.gz#egg=en_core_web_sm==2.2.0\n",
      "  Downloading https://github.com/explosion/spacy-models/releases/download/en_core_web_sm-2.2.0/en_core_web_sm-2.2.0.tar.gz (12.0MB)\n",
      "Requirement already satisfied: spacy>=2.2.0 in c:\\d\\installations\\anaconda\\lib\\site-packages (from en_core_web_sm==2.2.0) (2.2.1)\n",
      "Requirement already satisfied: thinc<7.2.0,>=7.1.1 in c:\\d\\installations\\anaconda\\lib\\site-packages (from spacy>=2.2.0->en_core_web_sm==2.2.0) (7.1.1)\n",
      "Requirement already satisfied: requests<3.0.0,>=2.13.0 in c:\\d\\installations\\anaconda\\lib\\site-packages (from spacy>=2.2.0->en_core_web_sm==2.2.0) (2.22.0)\n",
      "Requirement already satisfied: blis<0.5.0,>=0.4.0 in c:\\d\\installations\\anaconda\\lib\\site-packages (from spacy>=2.2.0->en_core_web_sm==2.2.0) (0.4.1)\n",
      "Requirement already satisfied: numpy>=1.15.0 in c:\\d\\installations\\anaconda\\lib\\site-packages (from spacy>=2.2.0->en_core_web_sm==2.2.0) (1.17.1)\n",
      "Requirement already satisfied: wasabi<1.1.0,>=0.2.0 in c:\\d\\installations\\anaconda\\lib\\site-packages (from spacy>=2.2.0->en_core_web_sm==2.2.0) (0.2.2)\n",
      "Requirement already satisfied: cymem<2.1.0,>=2.0.2 in c:\\d\\installations\\anaconda\\lib\\site-packages (from spacy>=2.2.0->en_core_web_sm==2.2.0) (2.0.2)\n",
      "Requirement already satisfied: plac<1.0.0,>=0.9.6 in c:\\d\\installations\\anaconda\\lib\\site-packages (from spacy>=2.2.0->en_core_web_sm==2.2.0) (0.9.6)\n",
      "Requirement already satisfied: murmurhash<1.1.0,>=0.28.0 in c:\\d\\installations\\anaconda\\lib\\site-packages (from spacy>=2.2.0->en_core_web_sm==2.2.0) (1.0.2)\n",
      "Requirement already satisfied: srsly<1.1.0,>=0.1.0 in c:\\d\\installations\\anaconda\\lib\\site-packages (from spacy>=2.2.0->en_core_web_sm==2.2.0) (0.1.0)\n",
      "Requirement already satisfied: preshed<3.1.0,>=3.0.2 in c:\\d\\installations\\anaconda\\lib\\site-packages (from spacy>=2.2.0->en_core_web_sm==2.2.0) (3.0.2)\n",
      "Requirement already satisfied: tqdm<5.0.0,>=4.10.0 in c:\\d\\installations\\anaconda\\lib\\site-packages (from thinc<7.2.0,>=7.1.1->spacy>=2.2.0->en_core_web_sm==2.2.0) (4.36.1)\n",
      "Requirement already satisfied: certifi>=2017.4.17 in c:\\d\\installations\\anaconda\\lib\\site-packages (from requests<3.0.0,>=2.13.0->spacy>=2.2.0->en_core_web_sm==2.2.0) (2019.6.16)\n",
      "Requirement already satisfied: urllib3!=1.25.0,!=1.25.1,<1.26,>=1.21.1 in c:\\d\\installations\\anaconda\\lib\\site-packages (from requests<3.0.0,>=2.13.0->spacy>=2.2.0->en_core_web_sm==2.2.0) (1.25.6)\n",
      "Requirement already satisfied: idna<2.9,>=2.5 in c:\\d\\installations\\anaconda\\lib\\site-packages (from requests<3.0.0,>=2.13.0->spacy>=2.2.0->en_core_web_sm==2.2.0) (2.8)\n",
      "Requirement already satisfied: chardet<3.1.0,>=3.0.2 in c:\\d\\installations\\anaconda\\lib\\site-packages (from requests<3.0.0,>=2.13.0->spacy>=2.2.0->en_core_web_sm==2.2.0) (3.0.4)\n",
      "Building wheels for collected packages: en-core-web-sm\n",
      "  Building wheel for en-core-web-sm (setup.py): started\n",
      "  Building wheel for en-core-web-sm (setup.py): finished with status 'done'\n",
      "  Created wheel for en-core-web-sm: filename=en_core_web_sm-2.2.0-cp37-none-any.whl size=12019129 sha256=fca6d2510334b32016246682b50bd856d802a635cc7a6fe04cc4d7524ec073eb\n",
      "  Stored in directory: C:\\Users\\RAJAT~1.CHA\\AppData\\Local\\Temp\\pip-ephem-wheel-cache-7pk6lebl\\wheels\\48\\5c\\1c\\15f9d02afc8221a668d2172446dd8467b20cdb9aef80a172a4\n",
      "Successfully built en-core-web-sm\n",
      "Installing collected packages: en-core-web-sm\n",
      "  Found existing installation: en-core-web-sm 2.1.0\n",
      "    Uninstalling en-core-web-sm-2.1.0:\n",
      "      Successfully uninstalled en-core-web-sm-2.1.0\n",
      "Successfully installed en-core-web-sm-2.2.0\n",
      "[+] Download and installation successful\n",
      "You can now load the model via spacy.load('en_core_web_sm')\n"
     ]
    }
   ],
   "source": [
    "!python -m spacy download en_core_web_sm"
   ]
  },
  {
   "cell_type": "code",
   "execution_count": 11,
   "metadata": {},
   "outputs": [],
   "source": [
    "from PIL import Image\n",
    "import pytesseract\n",
    "import argparse\n",
    "import cv2\n",
    "import os\n",
    "from pdf2image import convert_from_path\n",
    "import nltk\n",
    "import spacy\n",
    "from spacy.gold import GoldParse \n",
    "from spacy.language import EntityRecognizer \n",
    "from spacy import displacy"
   ]
  },
  {
   "cell_type": "code",
   "execution_count": 12,
   "metadata": {},
   "outputs": [],
   "source": [
    "nlp = spacy.load('en_core_web_sm')"
   ]
  },
  {
   "cell_type": "code",
   "execution_count": 13,
   "metadata": {},
   "outputs": [],
   "source": [
    "p=nlp(text1)"
   ]
  },
  {
   "cell_type": "code",
   "execution_count": 16,
   "metadata": {},
   "outputs": [
    {
     "name": "stdout",
     "output_type": "stream",
     "text": [
      "ABC AUTOMOTIVE PRODUCTS\n",
      "\n",
      "GOLDEN INDUSTRIAL ESTATE - 1 PLOT NO 68 SHAPAR RAJKOT\n",
      "EMAIL : abcautomotive@gmail.nom PHN : 02827 297236\n",
      "\n",
      "Debit Memo TAX INVOICE Original\n",
      "\n",
      "XYZ Global Pvt Ltd Invoice No. : MR109\n",
      "AJI GIDC OPP SWAGAT WEIGH, BRIDGE GIDC \"N\" |Date : 06/12/2018\n",
      "\n",
      "PLOT NO 346\n",
      "\n",
      "RAJKOT - 360003 | PO NO. : 7445336989.01\n",
      "Place of Supply : 24-Gujarat PO DATE. : 25/04/2018\n",
      "GSTIN No. : 24AACCG 1233C1ZF\n",
      "\n",
      "HSN/SAC GST %\n",
      "CYLINDER LINER 5569 84199949 2106 28.00% 452790\n",
      "\n",
      "CYLINDER LINER 5896 84099949 1670 28.00% 472610\n",
      "GSTIN No : 24AAVFN2183P1Z1 3776 Sub Total 925400\n",
      "\n",
      "Bank Name : STATE BANK OF INDIA\n",
      "Bank A/C NO. : 32907101389\n",
      "RTGS/1FSC Code : SBIN0060344\n",
      "\n",
      "Taxable Amount 925400\n",
      "CGST 14.00% 129556\n",
      "Total GST : Two Lakh Fifty Nine Thousand One Hundred Twelve Only SCSI 14.00% 129556\n",
      "Bill Amount : Eleven Lakh Eighty Four Thousand Five Hundred Twelve Only\n",
      "\n",
      "Grand Total 11,84,512\n"
     ]
    }
   ],
   "source": [
    "print(text1)"
   ]
  },
  {
   "cell_type": "code",
   "execution_count": 14,
   "metadata": {},
   "outputs": [
    {
     "data": {
      "text/html": [
       "<div class=\"entities\" style=\"line-height: 2.5; direction: ltr\">\n",
       "<mark class=\"entity\" style=\"background: #7aecec; padding: 0.45em 0.6em; margin: 0 0.25em; line-height: 1; border-radius: 0.35em; box-decoration-break: clone; -webkit-box-decoration-break: clone\">\n",
       "    ABC AUTOMOTIVE PRODUCTS\n",
       "    <span style=\"font-size: 0.8em; font-weight: bold; line-height: 1; border-radius: 0.35em; text-transform: uppercase; vertical-align: middle; margin-left: 0.5rem\">ORG</span>\n",
       "</mark>\n",
       "</br></br>GOLDEN INDUSTRIAL ESTATE - 1 PLOT NO \n",
       "<mark class=\"entity\" style=\"background: #e4e7d2; padding: 0.45em 0.6em; margin: 0 0.25em; line-height: 1; border-radius: 0.35em; box-decoration-break: clone; -webkit-box-decoration-break: clone\">\n",
       "    68\n",
       "    <span style=\"font-size: 0.8em; font-weight: bold; line-height: 1; border-radius: 0.35em; text-transform: uppercase; vertical-align: middle; margin-left: 0.5rem\">CARDINAL</span>\n",
       "</mark>\n",
       " SHAPAR RAJKOT</br>EMAIL : abcautomotive@gmail.nom PHN : 02827 \n",
       "<mark class=\"entity\" style=\"background: #bfe1d9; padding: 0.45em 0.6em; margin: 0 0.25em; line-height: 1; border-radius: 0.35em; box-decoration-break: clone; -webkit-box-decoration-break: clone\">\n",
       "    297236\n",
       "    <span style=\"font-size: 0.8em; font-weight: bold; line-height: 1; border-radius: 0.35em; text-transform: uppercase; vertical-align: middle; margin-left: 0.5rem\">DATE</span>\n",
       "</mark>\n",
       "</br></br>Debit Memo TAX INVOICE Original</br></br>XYZ Global Pvt Ltd Invoice No. : \n",
       "<mark class=\"entity\" style=\"background: #7aecec; padding: 0.45em 0.6em; margin: 0 0.25em; line-height: 1; border-radius: 0.35em; box-decoration-break: clone; -webkit-box-decoration-break: clone\">\n",
       "    MR109\n",
       "AJI GIDC OPP SWAGAT WEIGH\n",
       "    <span style=\"font-size: 0.8em; font-weight: bold; line-height: 1; border-radius: 0.35em; text-transform: uppercase; vertical-align: middle; margin-left: 0.5rem\">ORG</span>\n",
       "</mark>\n",
       ", BRIDGE GIDC &quot;N&quot; |Date : 06/12/2018</br></br>PLOT NO \n",
       "<mark class=\"entity\" style=\"background: #e4e7d2; padding: 0.45em 0.6em; margin: 0 0.25em; line-height: 1; border-radius: 0.35em; box-decoration-break: clone; -webkit-box-decoration-break: clone\">\n",
       "    346\n",
       "    <span style=\"font-size: 0.8em; font-weight: bold; line-height: 1; border-radius: 0.35em; text-transform: uppercase; vertical-align: middle; margin-left: 0.5rem\">CARDINAL</span>\n",
       "</mark>\n",
       "</br></br>RAJKOT - 360003 | \n",
       "<mark class=\"entity\" style=\"background: #7aecec; padding: 0.45em 0.6em; margin: 0 0.25em; line-height: 1; border-radius: 0.35em; box-decoration-break: clone; -webkit-box-decoration-break: clone\">\n",
       "    PO\n",
       "    <span style=\"font-size: 0.8em; font-weight: bold; line-height: 1; border-radius: 0.35em; text-transform: uppercase; vertical-align: middle; margin-left: 0.5rem\">ORG</span>\n",
       "</mark>\n",
       " NO. : \n",
       "<mark class=\"entity\" style=\"background: #e4e7d2; padding: 0.45em 0.6em; margin: 0 0.25em; line-height: 1; border-radius: 0.35em; box-decoration-break: clone; -webkit-box-decoration-break: clone\">\n",
       "    7445336989.01\n",
       "    <span style=\"font-size: 0.8em; font-weight: bold; line-height: 1; border-radius: 0.35em; text-transform: uppercase; vertical-align: middle; margin-left: 0.5rem\">CARDINAL</span>\n",
       "</mark>\n",
       "</br>Place of Supply : \n",
       "<mark class=\"entity\" style=\"background: #e4e7d2; padding: 0.45em 0.6em; margin: 0 0.25em; line-height: 1; border-radius: 0.35em; box-decoration-break: clone; -webkit-box-decoration-break: clone\">\n",
       "    24-Gujarat\n",
       "    <span style=\"font-size: 0.8em; font-weight: bold; line-height: 1; border-radius: 0.35em; text-transform: uppercase; vertical-align: middle; margin-left: 0.5rem\">CARDINAL</span>\n",
       "</mark>\n",
       " \n",
       "<mark class=\"entity\" style=\"background: #ddd; padding: 0.45em 0.6em; margin: 0 0.25em; line-height: 1; border-radius: 0.35em; box-decoration-break: clone; -webkit-box-decoration-break: clone\">\n",
       "    PO\n",
       "    <span style=\"font-size: 0.8em; font-weight: bold; line-height: 1; border-radius: 0.35em; text-transform: uppercase; vertical-align: middle; margin-left: 0.5rem\">FAC</span>\n",
       "</mark>\n",
       " DATE. : \n",
       "<mark class=\"entity\" style=\"background: #bfe1d9; padding: 0.45em 0.6em; margin: 0 0.25em; line-height: 1; border-radius: 0.35em; box-decoration-break: clone; -webkit-box-decoration-break: clone\">\n",
       "    25/04/2018\n",
       "    <span style=\"font-size: 0.8em; font-weight: bold; line-height: 1; border-radius: 0.35em; text-transform: uppercase; vertical-align: middle; margin-left: 0.5rem\">DATE</span>\n",
       "</mark>\n",
       "</br>GSTIN No. : \n",
       "<mark class=\"entity\" style=\"background: #e4e7d2; padding: 0.45em 0.6em; margin: 0 0.25em; line-height: 1; border-radius: 0.35em; box-decoration-break: clone; -webkit-box-decoration-break: clone\">\n",
       "    24AACCG\n",
       "    <span style=\"font-size: 0.8em; font-weight: bold; line-height: 1; border-radius: 0.35em; text-transform: uppercase; vertical-align: middle; margin-left: 0.5rem\">CARDINAL</span>\n",
       "</mark>\n",
       " 1233C1ZF</br></br>HSN/SAC GST %</br>CYLINDER LINER 5569 84199949 2106 \n",
       "<mark class=\"entity\" style=\"background: #e4e7d2; padding: 0.45em 0.6em; margin: 0 0.25em; line-height: 1; border-radius: 0.35em; box-decoration-break: clone; -webkit-box-decoration-break: clone\">\n",
       "    28.00%\n",
       "    <span style=\"font-size: 0.8em; font-weight: bold; line-height: 1; border-radius: 0.35em; text-transform: uppercase; vertical-align: middle; margin-left: 0.5rem\">PERCENT</span>\n",
       "</mark>\n",
       " \n",
       "<mark class=\"entity\" style=\"background: #bfe1d9; padding: 0.45em 0.6em; margin: 0 0.25em; line-height: 1; border-radius: 0.35em; box-decoration-break: clone; -webkit-box-decoration-break: clone\">\n",
       "    452790\n",
       "    <span style=\"font-size: 0.8em; font-weight: bold; line-height: 1; border-radius: 0.35em; text-transform: uppercase; vertical-align: middle; margin-left: 0.5rem\">DATE</span>\n",
       "</mark>\n",
       "</br></br>CYLINDER LINER \n",
       "<mark class=\"entity\" style=\"background: #bfe1d9; padding: 0.45em 0.6em; margin: 0 0.25em; line-height: 1; border-radius: 0.35em; box-decoration-break: clone; -webkit-box-decoration-break: clone\">\n",
       "    5896 84099949\n",
       "    <span style=\"font-size: 0.8em; font-weight: bold; line-height: 1; border-radius: 0.35em; text-transform: uppercase; vertical-align: middle; margin-left: 0.5rem\">DATE</span>\n",
       "</mark>\n",
       " \n",
       "<mark class=\"entity\" style=\"background: #bfe1d9; padding: 0.45em 0.6em; margin: 0 0.25em; line-height: 1; border-radius: 0.35em; box-decoration-break: clone; -webkit-box-decoration-break: clone\">\n",
       "    1670\n",
       "    <span style=\"font-size: 0.8em; font-weight: bold; line-height: 1; border-radius: 0.35em; text-transform: uppercase; vertical-align: middle; margin-left: 0.5rem\">DATE</span>\n",
       "</mark>\n",
       " \n",
       "<mark class=\"entity\" style=\"background: #e4e7d2; padding: 0.45em 0.6em; margin: 0 0.25em; line-height: 1; border-radius: 0.35em; box-decoration-break: clone; -webkit-box-decoration-break: clone\">\n",
       "    28.00%\n",
       "    <span style=\"font-size: 0.8em; font-weight: bold; line-height: 1; border-radius: 0.35em; text-transform: uppercase; vertical-align: middle; margin-left: 0.5rem\">PERCENT</span>\n",
       "</mark>\n",
       " \n",
       "<mark class=\"entity\" style=\"background: #bfe1d9; padding: 0.45em 0.6em; margin: 0 0.25em; line-height: 1; border-radius: 0.35em; box-decoration-break: clone; -webkit-box-decoration-break: clone\">\n",
       "    472610\n",
       "    <span style=\"font-size: 0.8em; font-weight: bold; line-height: 1; border-radius: 0.35em; text-transform: uppercase; vertical-align: middle; margin-left: 0.5rem\">DATE</span>\n",
       "</mark>\n",
       "</br>GSTIN No : \n",
       "<mark class=\"entity\" style=\"background: #e4e7d2; padding: 0.45em 0.6em; margin: 0 0.25em; line-height: 1; border-radius: 0.35em; box-decoration-break: clone; -webkit-box-decoration-break: clone\">\n",
       "    24AAVFN2183P1Z1 3776\n",
       "    <span style=\"font-size: 0.8em; font-weight: bold; line-height: 1; border-radius: 0.35em; text-transform: uppercase; vertical-align: middle; margin-left: 0.5rem\">CARDINAL</span>\n",
       "</mark>\n",
       " Sub Total 925400</br></br>Bank Name : \n",
       "<mark class=\"entity\" style=\"background: #7aecec; padding: 0.45em 0.6em; margin: 0 0.25em; line-height: 1; border-radius: 0.35em; box-decoration-break: clone; -webkit-box-decoration-break: clone\">\n",
       "    STATE BANK OF INDIA\n",
       "Bank A/C NO\n",
       "    <span style=\"font-size: 0.8em; font-weight: bold; line-height: 1; border-radius: 0.35em; text-transform: uppercase; vertical-align: middle; margin-left: 0.5rem\">ORG</span>\n",
       "</mark>\n",
       ". : \n",
       "<mark class=\"entity\" style=\"background: #e4e7d2; padding: 0.45em 0.6em; margin: 0 0.25em; line-height: 1; border-radius: 0.35em; box-decoration-break: clone; -webkit-box-decoration-break: clone\">\n",
       "    32907101389\n",
       "    <span style=\"font-size: 0.8em; font-weight: bold; line-height: 1; border-radius: 0.35em; text-transform: uppercase; vertical-align: middle; margin-left: 0.5rem\">CARDINAL</span>\n",
       "</mark>\n",
       "</br>RTGS/1FSC Code : SBIN0060344</br></br>Taxable Amount 925400</br>CGST \n",
       "<mark class=\"entity\" style=\"background: #e4e7d2; padding: 0.45em 0.6em; margin: 0 0.25em; line-height: 1; border-radius: 0.35em; box-decoration-break: clone; -webkit-box-decoration-break: clone\">\n",
       "    14.00%\n",
       "    <span style=\"font-size: 0.8em; font-weight: bold; line-height: 1; border-radius: 0.35em; text-transform: uppercase; vertical-align: middle; margin-left: 0.5rem\">PERCENT</span>\n",
       "</mark>\n",
       " \n",
       "<mark class=\"entity\" style=\"background: #bfe1d9; padding: 0.45em 0.6em; margin: 0 0.25em; line-height: 1; border-radius: 0.35em; box-decoration-break: clone; -webkit-box-decoration-break: clone\">\n",
       "    129556\n",
       "    <span style=\"font-size: 0.8em; font-weight: bold; line-height: 1; border-radius: 0.35em; text-transform: uppercase; vertical-align: middle; margin-left: 0.5rem\">DATE</span>\n",
       "</mark>\n",
       "</br>Total GST : \n",
       "<mark class=\"entity\" style=\"background: #e4e7d2; padding: 0.45em 0.6em; margin: 0 0.25em; line-height: 1; border-radius: 0.35em; box-decoration-break: clone; -webkit-box-decoration-break: clone\">\n",
       "    Two\n",
       "    <span style=\"font-size: 0.8em; font-weight: bold; line-height: 1; border-radius: 0.35em; text-transform: uppercase; vertical-align: middle; margin-left: 0.5rem\">CARDINAL</span>\n",
       "</mark>\n",
       " Lakh Fifty Nine Thousand \n",
       "<mark class=\"entity\" style=\"background: #e4e7d2; padding: 0.45em 0.6em; margin: 0 0.25em; line-height: 1; border-radius: 0.35em; box-decoration-break: clone; -webkit-box-decoration-break: clone\">\n",
       "    One Hundred\n",
       "    <span style=\"font-size: 0.8em; font-weight: bold; line-height: 1; border-radius: 0.35em; text-transform: uppercase; vertical-align: middle; margin-left: 0.5rem\">CARDINAL</span>\n",
       "</mark>\n",
       " Twelve \n",
       "<mark class=\"entity\" style=\"background: #e4e7d2; padding: 0.45em 0.6em; margin: 0 0.25em; line-height: 1; border-radius: 0.35em; box-decoration-break: clone; -webkit-box-decoration-break: clone\">\n",
       "    Only SCSI\n",
       "    <span style=\"font-size: 0.8em; font-weight: bold; line-height: 1; border-radius: 0.35em; text-transform: uppercase; vertical-align: middle; margin-left: 0.5rem\">PERCENT</span>\n",
       "</mark>\n",
       " \n",
       "<mark class=\"entity\" style=\"background: #e4e7d2; padding: 0.45em 0.6em; margin: 0 0.25em; line-height: 1; border-radius: 0.35em; box-decoration-break: clone; -webkit-box-decoration-break: clone\">\n",
       "    14.00%\n",
       "    <span style=\"font-size: 0.8em; font-weight: bold; line-height: 1; border-radius: 0.35em; text-transform: uppercase; vertical-align: middle; margin-left: 0.5rem\">PERCENT</span>\n",
       "</mark>\n",
       " \n",
       "<mark class=\"entity\" style=\"background: #bfe1d9; padding: 0.45em 0.6em; margin: 0 0.25em; line-height: 1; border-radius: 0.35em; box-decoration-break: clone; -webkit-box-decoration-break: clone\">\n",
       "    129556\n",
       "    <span style=\"font-size: 0.8em; font-weight: bold; line-height: 1; border-radius: 0.35em; text-transform: uppercase; vertical-align: middle; margin-left: 0.5rem\">DATE</span>\n",
       "</mark>\n",
       "</br>Bill Amount : \n",
       "<mark class=\"entity\" style=\"background: #e4e7d2; padding: 0.45em 0.6em; margin: 0 0.25em; line-height: 1; border-radius: 0.35em; box-decoration-break: clone; -webkit-box-decoration-break: clone\">\n",
       "    Eleven\n",
       "    <span style=\"font-size: 0.8em; font-weight: bold; line-height: 1; border-radius: 0.35em; text-transform: uppercase; vertical-align: middle; margin-left: 0.5rem\">CARDINAL</span>\n",
       "</mark>\n",
       " Lakh Eighty Four Thousand Five Hundred Twelve Only\n",
       "\n",
       "Grand Total 11,84,512</div>"
      ],
      "text/plain": [
       "<IPython.core.display.HTML object>"
      ]
     },
     "metadata": {},
     "output_type": "display_data"
    },
    {
     "name": "stdout",
     "output_type": "stream",
     "text": [
      "ABC AUTOMOTIVE PRODUCTS ORG\n",
      "68 CARDINAL\n",
      "297236 DATE\n",
      "MR109\n",
      "AJI GIDC OPP SWAGAT WEIGH ORG\n",
      "346 CARDINAL\n",
      "PO ORG\n",
      "7445336989.01 CARDINAL\n",
      "24-Gujarat CARDINAL\n",
      "PO FAC\n",
      "25/04/2018 DATE\n",
      "24AACCG CARDINAL\n",
      "28.00% PERCENT\n",
      "452790 DATE\n",
      "5896 84099949 DATE\n",
      "1670 DATE\n",
      "28.00% PERCENT\n",
      "472610 DATE\n",
      "24AAVFN2183P1Z1 3776 CARDINAL\n",
      "STATE BANK OF INDIA\n",
      "Bank A/C NO ORG\n",
      "32907101389 CARDINAL\n",
      "14.00% PERCENT\n",
      "129556 DATE\n",
      "Two CARDINAL\n",
      "One Hundred CARDINAL\n",
      "Only SCSI PERCENT\n",
      "14.00% PERCENT\n",
      "129556 DATE\n",
      "Eleven CARDINAL\n"
     ]
    }
   ],
   "source": [
    "displacy.render(p, style='ent', jupyter=True) \n",
    "for ent in p.ents:\n",
    "    print(ent.text, ent.label_)"
   ]
  },
  {
   "cell_type": "code",
   "execution_count": 15,
   "metadata": {},
   "outputs": [
    {
     "name": "stdout",
     "output_type": "stream",
     "text": [
      "ABC AUTOMOTIVE PRODUCTS 0 23 ORG\n",
      "68 62 64 CARDINAL\n",
      "297236 123 129 DATE\n",
      "MR109\n",
      "AJI GIDC OPP SWAGAT WEIGH 197 228 ORG\n",
      "346 274 277 CARDINAL\n",
      "PO 297 299 ORG\n",
      "7445336989.01 306 319 CARDINAL\n",
      "24-Gujarat 338 348 CARDINAL\n",
      "PO 349 351 FAC\n",
      "25/04/2018 360 370 DATE\n",
      "24AACCG 383 390 CARDINAL\n",
      "28.00% 449 455 PERCENT\n",
      "452790 456 462 DATE\n",
      "5896 84099949 479 492 DATE\n",
      "1670 493 497 DATE\n",
      "28.00% 498 504 PERCENT\n",
      "472610 505 511 DATE\n",
      "24AAVFN2183P1Z1 3776 523 543 CARDINAL\n",
      "STATE BANK OF INDIA\n",
      "Bank A/C NO 574 605 ORG\n",
      "32907101389 609 620 CARDINAL\n",
      "14.00% 678 684 PERCENT\n",
      "129556 685 691 DATE\n",
      "Two 704 707 CARDINAL\n",
      "One Hundred 733 744 CARDINAL\n",
      "Only SCSI 752 761 PERCENT\n",
      "14.00% 762 768 PERCENT\n",
      "129556 769 775 DATE\n",
      "Eleven 790 796 CARDINAL\n"
     ]
    }
   ],
   "source": [
    "for q in p.ents: \n",
    "    print(q.text, q.start_char, q.end_char, q.label_)"
   ]
  },
  {
   "cell_type": "code",
   "execution_count": null,
   "metadata": {},
   "outputs": [],
   "source": [
    "nlp = spacy.load('en', entity = False, parser = False) \n",
    "\n",
    "doc_list = [] \n",
    "doc = nlp(text1) \n",
    "doc_list.append(p) \n",
    "gold_list = [] \n",
    "gold_list.append(GoldParse(p, [u'ANIMAL', u'O', u'O', u'O'])) \n",
    "\n",
    "ner = EntityRecognizer(nlp.vocab, entity_types = ['ANIMAL']) \n",
    "ner.update(doc_list, gold_list) \n"
   ]
  },
  {
   "cell_type": "code",
   "execution_count": null,
   "metadata": {},
   "outputs": [],
   "source": []
  }
 ],
 "metadata": {
  "kernelspec": {
   "display_name": "Python 3",
   "language": "python",
   "name": "python3"
  },
  "language_info": {
   "codemirror_mode": {
    "name": "ipython",
    "version": 3
   },
   "file_extension": ".py",
   "mimetype": "text/x-python",
   "name": "python",
   "nbconvert_exporter": "python",
   "pygments_lexer": "ipython3",
   "version": "3.7.1"
  }
 },
 "nbformat": 4,
 "nbformat_minor": 2
}
