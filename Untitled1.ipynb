{
 "cells": [
  {
   "cell_type": "code",
   "execution_count": 1,
   "metadata": {},
   "outputs": [],
   "source": [
    "from PIL import Image\n",
    "import pytesseract\n",
    "import argparse\n",
    "import cv2\n",
    "import os\n",
    "from pdf2image import convert_from_path\n",
    "import nltk\n",
    "import spacy\n",
    "from spacy.gold import GoldParse \n",
    "from spacy.language import EntityRecognizer \n",
    "from spacy import displacy\n",
    "import pandas as pd\n",
    "import plac\n",
    "from spacy.lang.en import English\n",
    "from spacy.matcher import PhraseMatcher,Matcher\n",
    "from spacy.pipeline import EntityRuler\n",
    "from spacy.tokens import Doc, Span, Token\n",
    "import regex as re\n",
    "nlp = spacy.load('en_core_web_md')"
   ]
  },
  {
   "cell_type": "code",
   "execution_count": 2,
   "metadata": {},
   "outputs": [],
   "source": [
    "data=pd.read_csv(\"../VIM/data3.csv\")\n",
    "psm6=data.iloc[0:,4:]\n",
    "psm6=list(psm6.Text3)"
   ]
  },
  {
   "cell_type": "code",
   "execution_count": 3,
   "metadata": {},
   "outputs": [],
   "source": [
    "newdata=pd.read_csv('../VIM/newdata.csv')\n",
    "newpsm6=newdata.iloc[0:,1:]\n",
    "newpsm6=list(newpsm6.Text)"
   ]
  },
  {
   "cell_type": "code",
   "execution_count": 4,
   "metadata": {},
   "outputs": [],
   "source": [
    "testInv=pytesseract.image_to_string('../VIM/invoices/GST_INVOICE6_1_1.jpg', lang='eng', config='--psm 4')"
   ]
  },
  {
   "cell_type": "code",
   "execution_count": 78,
   "metadata": {},
   "outputs": [],
   "source": [
    "testInv2=pytesseract.image_to_string('../VIM/UK_PO_CEB_UK_IDEA2_1.jpg', lang='eng', config='--psm 6')"
   ]
  },
  {
   "cell_type": "code",
   "execution_count": 79,
   "metadata": {},
   "outputs": [
    {
     "data": {
      "text/plain": [
       "'C.E.B. UK Ltd.\\n3, Johnson Road\\nLondon, EC1V OBN\\nTel: +44 20189291\\ne\\nyg Invoice\\nInvoice date: 28/08/2019\\nInvoice Number: GH12345\\nPayment Terms: 30 days\\nDue Date: 27/09/2019\\nCurrency: GBP\\nPONo:: 4500000873\\nTo: Ship to:\\nInnovate UK LTD. Innovate UK LTD.\\nDashwood House Dashwood House\\nLondon London\\nEC2M 1QS EC2M 1QS\\nQuantity Description Unit Unit Price Amount\\n2 Fingerprint Scanner Pro Sense X-I PC £34.50 £69.00\\n5 Notebook WebCam PC £120.00 £600.00\\n8 Touchscreen Display (Multi Touch) PC £51.00 £408.00\\nHandling costs £0.00\\nFreight expenses £0.00\\nNet £1,077.00\\nVAT 20 % £215.40\\nTotal £1,292.40\\nBank: Royal Bank of Scotland Plc IBAN: GB35CITI1 8500807678686 VAT Reg. No.: GB591819014\\nEmail: — http: info@ceb-online.uk'"
      ]
     },
     "execution_count": 79,
     "metadata": {},
     "output_type": "execute_result"
    }
   ],
   "source": [
    "testInv2"
   ]
  },
  {
   "cell_type": "code",
   "execution_count": 102,
   "metadata": {},
   "outputs": [
    {
     "name": "stdout",
     "output_type": "stream",
     "text": [
      "removed\n"
     ]
    }
   ],
   "source": [
    "if 'entity_ruler' in nlp.pipe_names:\n",
    "    nlp.remove_pipe(\"entity_ruler\")\n",
    "    print('removed')"
   ]
  },
  {
   "cell_type": "code",
   "execution_count": 103,
   "metadata": {},
   "outputs": [],
   "source": [
    "ruler = EntityRuler(nlp,overwrite_ents=True)\n",
    "ruler.add_patterns([\n",
    "                     {\"label\": \"PHONE\", \"pattern\": [{\"ORTH\": \"Tel\"}, {\"ORTH\": \":\"}, {\"ORTH\":{\"REGEX\":\"\\d\"}},{\"ORTH\": \"-\"},  {\"ORTH\":{\"REGEX\":\"\\d\"}},  {\"ORTH\":{\"REGEX\":\"\\d\"}}], \"id\":\"phone\"},\n",
    "                     {\"label\": \"PHONE\", \"pattern\": [{\"ORTH\": \"Ph\"}, {\"ORTH\": \":\"},  {\"ORTH\":{\"REGEX\":\"\\d\"}},{\"ORTH\": \"-\"},  {\"ORTH\":{\"REGEX\":\"\\d\"}}],\"id\":\"phone\"},\n",
    "                     {\"label\": \"PHONE\", \"pattern\": [{\"ORTH\": \"Tel\"}, {\"ORTH\": \":\"},  {\"ORTH\":{\"REGEX\":\"\\d\"}},{\"ORTH\": \"-\"},  {\"ORTH\":{\"REGEX\":\"\\d\"}}],\"id\":\"phone\"},\n",
    "                     {\"label\": \"PHONE\", \"pattern\": [{\"ORTH\": \"Phone\"}, {\"ORTH\": \":\"},  {\"ORTH\":{\"REGEX\":\"\\d\"}},{\"ORTH\": \"-\"},  {\"ORTH\":{\"REGEX\":\"\\d\"}}],\"id\":\"phone\"},\n",
    "                      #space and mobile pattern\n",
    "                     {\"label\": \"PHONE\", \"pattern\": [{\"ORTH\": \"Ph\"}, {\"ORTH\": \":\"},  {\"ORTH\":{\"REGEX\":\"\\d\"}}],\"id\":\"phone\"},\n",
    "                     {\"label\": \"PHONE\", \"pattern\": [{\"ORTH\": \"Phone\"}, {\"ORTH\": \":\"},  {\"ORTH\":{\"REGEX\":\"\\d\"}}],\"id\":\"phone\"},\n",
    "                     {\"label\": \"PHONE\", \"pattern\": [{\"ORTH\": \"Tel\"}, {\"ORTH\": \":\"},  {\"ORTH\":{\"REGEX\":\"\\d\"}}],\"id\":\"phone\"},\n",
    "                      #No space landline pattern\n",
    "                     {\"label\": \"PHONE\", \"pattern\": [ {\"ORTH\":{\"REGEX\":\"(Ph:\\d{0,3})\"}},{\"ORTH\": \"-\"},  {\"ORTH\":{\"REGEX\":\"\\d\"}}],\"id\":\"phone\"},\n",
    "                     {\"label\": \"PHONE\", \"pattern\": [ {\"ORTH\":{\"REGEX\":\"(Phone:\\d{0,3})\"}},{\"ORTH\": \"-\"},  {\"ORTH\":{\"REGEX\":\"\\d\"}}],\"id\":\"phone\"},\n",
    "                     {\"label\": \"PHONE\", \"pattern\": [ {\"ORTH\":{\"REGEX\":\"(Tel:\\d{0,3})\"}},{\"ORTH\": \"-\"},  {\"ORTH\":{\"REGEX\":\"\\d\"}}],\"id\":\"phone\"},\n",
    "                      #No space landline pattern2\n",
    "                     {\"label\": \"PHONE\", \"pattern\": [{\"ORTH\": \"Phone\"}, {\"ORTH\": \":\"},  {\"ORTH\":{\"REGEX\":\"\\d\"}},{\"ORTH\": \"-\"},  {\"ORTH\":{\"REGEX\":\"\\d\"}},{\"ORTH\": \"-\"},  {\"ORTH\":{\"REGEX\":\"\\d\"}},{\"ORTH\":{\"REGEX\":\"\\d\"}}],\"id\":\"PHONE\"},\n",
    "                     {\"label\": \"PHONE\", \"pattern\": [{\"ORTH\": \"Tel\"}, {\"ORTH\": \":\"},  {\"ORTH\":{\"REGEX\":\"\\d\"}},{\"ORTH\": \"-\"},  {\"ORTH\":{\"REGEX\":\"\\d\"}},  {\"ORTH\":{\"REGEX\":\"\\d\"}}],\"id\":\"PHONE\"},\n",
    "                      #No space mobile pattern\n",
    "                     {\"label\": \"PHONE\", \"pattern\": [ {\"ORTH\":{\"REGEX\":\"(Ph:\\d)\"}}],\"id\":\"PHONE\"},\n",
    "                     {\"label\": \"PHONE\", \"pattern\": [ {\"ORTH\":{\"REGEX\":\"(Phone:\\d)\"}}],\"id\":\"PHONE\"},\n",
    "                     {\"label\": \"PHONE\", \"pattern\": [ {\"ORTH\":{\"REGEX\":\"(Tel:\\d)\"}}],\"id\":\"PHONE\"},\n",
    "                     {\"label\": \"GST\", \"pattern\": [{\"ORTH\": \"GSTIN\"}, {\"ORTH\": \":\"}, {}],\"id\":\"GST\"},\n",
    "                     {\"label\": \"GST\", \"pattern\": [{\"ORTH\": \"GSTIN_\"}, {\"ORTH\": \":\"}, {}],\"id\":\"GST\"},\n",
    "                     {\"label\": \"GST\", \"pattern\": [{\"ORTH\":'VAT'}, {\"ORTH\":'No'}, {\"ORTH\":':'}, {}],\"id\":\"GST\"},\n",
    "    \n",
    "                     {\"label\": \"EMAIL\", \"pattern\": [{\"ORTH\": \"E\"},{\"ORTH\": \"-\"},{\"ORTH\": \"mail\"}, {\"ORTH\": \":\"}, {}],\"id\":\"EMAIL\"}, \n",
    "                     {\"label\": \"EMAIL\", \"pattern\": [{\"ORTH\": \"Email\"}, {\"ORTH\": \":\"}, {}],\"id\":\"EMAIL\"},\n",
    "                     {\"label\": \"EMAIL\", \"pattern\": [ {\"ORTH\":{\"REGEX\":\"(Email:)\"}}],\"id\":\"EMAIL\"},\n",
    "                     {\"label\": \"EMAIL\", \"pattern\": [ {\"ORTH\":{\"REGEX\":\"\\S+@\\S+\\.\\S+\"}}],\"id\":\"EMAIL\"},\n",
    "                     {\"label\": \"INVOICE\", \"pattern\":  [{\"ORTH\": \"INVOICE\"}, {\"ORTH\":{\"REGEX\":\"([No NO no # ])\"}},{}],\"id\":\"INVOICE\" },\n",
    "                     {\"label\": \"INVOICE\", \"pattern\":[{\"ORTH\": \"Invoice\"}, {\"ORTH\":{\"REGEX\":\"([No NO no # ])\"}},{}],\"id\":\"INVOICE\" },\n",
    "                     {\"label\": \"INVOICE\", \"pattern\":[{\"ORTH\":{\"REGEX\":\"(A-Z0-9)\"}},{\"ORTH\":{\"REGEX\":\"-\"}},{\"ORTH\":{\"REGEX\":\"[0-9]{1,4}/[0-9]{1,4}\"}}],\"id\":\"INVOICE\" },\n",
    "                     {\"label\": \"INVOICE\", \"pattern\":  [{\"ORTH\": \"INVOICE\"}, {\"ORTH\":{\"REGEX\":\"[No NO no # ]?\"}},{\"ORTH\":{\"REGEX\":\":?\"}},{},{\"ORTH\": \"-\"},{}],\"id\":\"INVOICE\"},\n",
    "                     {\"label\": \"INVOICE\", \"pattern\": [{\"lower\": \"invoice\"}, {\"lower\": \"no\"},{\"lower\":{\"REGEX\":\":?\"}},{}],\"id\":\"INVOICE\"},\n",
    "                     {\"label\": \"INVOICE\", \"pattern\":[{\"lower\": \"invoice\"}, {\"lower\": \"no\"}, {\"lower\": \".\"},{\"lower\":{\"REGEX\":\":?\"}},{}],\"id\":\"INVOICE\"},\n",
    "                     {\"label\": \"INVOICE\", \"pattern\":[{\"lower\": \"invoice\"}, {\"lower\": \"no\"}, {\"lower\": \".\"},{\"lower\":{\"REGEX\":\":?\"}},{},{\"ORTH\": \"-\"},{}],\"id\":\"INVOICE\"},\n",
    "                     {\"label\": \"PO\", \"pattern\": [{\"ORTH\": \"PO\"},{\"ORTH\": \"No\"}, {\"ORTH\":{\"REGEX\":\":?\"}},{},{\"ORTH\":{\"REGEX\":\"-?\"}},{\"ORTH\":{\"REGEX\":\"\\d\"}}],\"id\":\"PO\"},\n",
    "                     {\"label\": \"PO\", \"pattern\": [{\"ORTH\": \"PO\"},{\"ORTH\": \"Details\"}, {\"ORTH\":{\"REGEX\":\":?\"}},{\"ORTH\":{\"REGEX\":\"\\d\"}}],\"id\":\"PO\"},\n",
    "                     {\"label\": \"PO\", \"pattern\": [{\"ORTH\": \"P.O\"}, {\"ORTH\": \".No\"},{\"ORTH\":{\"REGEX\":\":?\"}},{\"ORTH\":{\"REGEX\":\"\\d\"}}],\"id\":\"PO\"},\n",
    "                     {\"label\": \"PO\", \"pattern\": [{\"ORTH\": \"Pur\"},{\"ORTH\": \"No\"}, {\"ORTH\":{\"REGEX\":\":?\"}},{\"ORTH\":{\"REGEX\":\"\\d\"}}],\"id\":\"PO\"},\n",
    "                     {\"label\": \"PO\", \"pattern\": [{\"ORTH\": \"Order\"},{\"ORTH\": \"No\"}, {\"ORTH\":{\"REGEX\":\":?\"}},{\"ORTH\":{\"REGEX\":\"\\d\"}}],\"id\":\"PO\"},\n",
    "                     {\"label\": \"PO\", \"pattern\": [{\"ORTH\": \"Purchase\"},{\"ORTH\": \"Order\"},{\"ORTH\": \"No\"}, {\"ORTH\":\":\"},{\"ORTH\":{\"REGEX\":\"\\d\"}}],\"id\":\"PO\"},\n",
    "                     {\"label\": \"TOTALAMOUNT\", \"pattern\": [{\"ORTH\": \"Total\"} ,{\"ORTH\":{\"REGEX\":\"\\d\"}}],\"id\":\"TOTALAMOUNT\"},\n",
    "                     {\"label\": \"TOTALAMOUNT\", \"pattern\": [{\"ORTH\": \"Total\"}, {\"ORTH\": \"Amount\"},{\"ORTH\":{\"REGEX\":\"\\d\"}}],\"id\":\"TOTALAMOUNT\"},\n",
    "                     {\"label\": \"ACCOUNTNO\", \"pattern\":[{\"ORTH\":'Account'}, {\"ORTH\":'No'}, {\"ORTH\":{\"REGEX\":\".?\"}}, {\"ORTH\":':'}, {\"ORTH\":{\"REGEX\":\"\\d\"}}],\"id\":\"BANK\"},\n",
    "                     {\"label\": \"ACCOUNTNO\", \"pattern\":[{\"ORTH\":'A'}, {\"ORTH\":'/'}, {\"ORTH\":{\"REGEX\":\"[C c]\"}}, {\"ORTH\":{\"REGEX\":\"[NO No]\"}}, {\"ORTH\":{\"REGEX\":\".?\"}}, {\"ORTH\":{\"REGEX\":\":?\"}}, {\"ORTH\":{\"REGEX\":\"\\d\"}}],\"id\":\"BANK\"},\n",
    "                     {\"label\": \"ACCOUNTNO\", \"pattern\":[{\"ORTH\":'A'}, {\"ORTH\":'/'}, {\"ORTH\":{\"REGEX\":\"[C c]\"}}, {\"ORTH\":{\"REGEX\":\"[NO No]\"}}, {\"ORTH\":{\"REGEX\":\".?\"}}, {\"ORTH\":{\"REGEX\":\"\\d\"}}],\"id\":\"BANK\"},\n",
    "                     {\"label\": \"IFSC\", \"pattern\":[{\"ORTH\":'IFSC'}, {\"ORTH\":'Code'}, {\"ORTH\":':'},{\"ORTH\":{\"REGEX\":\"\\s?\"}},{\"ORTH\":{\"REGEX\":\"[A-Z0-9]\"}}],\"id\":\"BANK\"},\n",
    "                     {\"label\": \"IFSC\", \"pattern\":[{\"ORTH\":'IFSC'}, {\"ORTH\":{\"REGEX\":\"[CODE Code]\"}}, {\"ORTH\":':'},{\"ORTH\":{\"REGEX\":\"[A-Z0-9]\"}}],\"id\":\"BANK\"},\n",
    "                     {\"label\": \"IFSC\", \"pattern\":[{\"ORTH\":'IFS'}, {\"ORTH\":'Code'}, {\"ORTH\":':'},{\"ORTH\":{\"REGEX\":\"\\s?\"}},{\"ORTH\":{\"REGEX\":\"[A-Z0-9]\"}}],\"id\":\"BANK\"},\n",
    "                     {\"label\": \"BRANCH\", \"pattern\":[{\"ORTH\": \"BRANCH\"}, {\"ORTH\": {\"REGEX\":\"[:]\"}}, {}],\"id\":\"BANK\"},\n",
    "                     {\"label\": \"BRANCH\", \"pattern\":[{\"ORTH\": \"Branch\"}, {\"ORTH\": {\"REGEX\":\"[:]\"}}, {}],\"id\":\"BANK\"},\n",
    "                     {\"label\": \"BANKNAME\", \"pattern\":[{\"ORTH\": \"Bank\"}, {\"ORTH\": {\"REGEX\":\"[:]\"}}, {\"ORTH\":{\"REGEX\":\"\\s?\"}},{}],\"id\":\"BANK\"},\n",
    "                     {\"label\": \"BANKNAME\", \"pattern\":[{\"ORTH\": \"Bank\"}, {\"ORTH\": \"Name\"}, {\"ORTH\": {\"REGEX\":\"[: -]?\"}}, {}],\"id\":\"BANK\"},\n",
    "                     {\"label\": \"INVOICEDATE\", \"pattern\":[{\"lower\": \"invoice\"},{\"lower\": \"date\"}, {\"ORTH\":\":\"},{}],\"id\":\"DATE\"},\n",
    "    \n",
    "                     {\"label\": \"TOTALAMOUNT\", \"pattern\":[{\"ORTH\": \"Total:-\"} ,{\"ORTH\":{\"REGEX\":\"\\d\"}}],\"id\":\"TOTALAMOUNT\"},\n",
    "                     {\"label\": \"SUBAMOUNT\", \"pattern\":[{\"ORTH\": \"Sub\"},{\"ORTH\": \"-\"},{\"ORTH\": \"Total\"} ,{\"ORTH\":{\"REGEX\":\"\\d\"}}],\"id\":\"TOTALAMOUNT\"},\n",
    "                     {\"label\": \"TOTALAMOUNT\", \"pattern\":[{\"ORTH\": \"Grand\"},{\"ORTH\": \"Total\"}, {\"ORTH\":{\"REGEX\":\"\\d\"}}],\"id\":\"TOTALAMOUNT\"},\n",
    "                     {\"label\": \"TOTALAMOUNT\", \"pattern\":[{\"ORTH\": \"Grand\"},{\"ORTH\": \"-\"},{\"ORTH\": \"Total\"}, {\"ORTH\":{\"REGEX\":\"\\d\"}}],\"id\":\"TOTALAMOUNT\"},\n",
    "                     {\"label\": \"SUBAMOUNT\", \"pattern\":[{\"ORTH\": \"Sub\"},{\"ORTH\": \"Total\"} ,{\"ORTH\":{\"REGEX\":\"\\d\"}}],\"id\":\"TOTALAMOUNT\"},\n",
    "    \n",
    "            \n",
    "                     {\"label\": \"INVOICEDATE\", \"pattern\":[{\"lower\": \"invoice\"},{\"lower\": \"date\"}, {\"ORTH\":{\"REGEX\":\"(\\d{1,2}/\\d{1,2}/[\\d{2} \\d{4}])\"}}],\"id\":\"DATE\"},\n",
    "                     {\"label\": \"INVOICEDATE\", \"pattern\":[{\"lower\": \"date\"}, {\"ORTH\":{\"REGEX\":\"(\\d{1,2}/\\d{1,2}/[\\d{2} \\d{4}])\"}}],\"id\":\"DATE\"},\n",
    "                     {\"label\": \"INVOICEDATE\", \"pattern\":[{\"ORTH\":{\"REGEX\":\"(\\d{1,2}/\\d{1,2}/[\\d{2} \\d{4}])\"}}],\"id\":\"DATE\"},\n",
    "                     #{\"label\": \"INVOICEDATE\", \"pattern\":[{\"ORTH\":{\"REGEX\":\"(\\d{1,2})\"}},{\"ORTH\":\"-\"},{\"ORTH\":{\"REGEX\":\"(\\d{1,2})\"}},{\"ORTH\":\"-\"},{\"ORTH\":{\"REGEX\":\"(\\d{4})\"}}], \"id\":\"DATE\"},\n",
    "                    \n",
    "                     {\"label\": \"INVOICEDATE\", \"pattern\":[{\"lower\": \"invoice\"},{\"lower\": \"date\"}, {\"ORTH\":{\"REGEX\":\"(\\d{1,2} - \\d{1,2} - [\\d{2} \\d{4}])\"}}],\"id\":\"DATE\"},\n",
    "                     {\"label\": \"INVOICEDATE\", \"pattern\":[{\"lower\": \"date\"}, {\"ORTH\":{\"REGEX\":\"(\\d{1,2} - \\d{1,2} - [\\d{2} \\d{4}])\"}}],\"id\":\"DATE\"},\n",
    "                     {\"label\": \"INVOICEDATE\", \"pattern\":[{\"ORTH\":{\"REGEX\":\"(\\d{1,2} - \\d{1,2} - [\\d{2} \\d{4}])\"}}],\"id\":\"DATE\"},\n",
    "    \n",
    "                     {\"label\": \"LINEITEM\", \"pattern\":[{\"POS\": {\"IN\":[\"NUM\",\"X\"]}}, {\"POS\":\"PROPN\"}, {\"POS\":\"PROPN\"}, {\"POS\":\"PROPN\"}, {\"POS\":\"PROPN\"}, {\"POS\": {\"IN\":[\"NUM\",\"X\"]}}],\"id\":\"LINEITEM\"},\n",
    "                     {\"label\": \"LINEITEM\", \"pattern\":[{\"POS\": {\"IN\":[\"NUM\",\"X\"]}}, {\"POS\":\"PROPN\"}, {\"POS\":\"PROPN\"}, {\"POS\":\"NOUN\" }, {\"POS\":\"NOUN \"}, {\"POS\": {\"IN\":[\"NUM\",\"X\"]}}],\"id\":\"LINEITEM\"},\n",
    "                     {\"label\": \"LINEITEM\", \"pattern\":[{\"POS\": {\"IN\":[\"NUM\",\"X\"]}}, {\"POS\":\"PROPN\"}, {\"POS\":\"PROPN\"}, {\"POS\":{\"REGEX\":\"[NOUN VERB]\"} }, {\"POS\":\"PROPN\"}, {\"POS\": {\"IN\":[\"NUM\",\"X\"]}}],\"id\":\"LINEITEM\"},\n",
    "                     {\"label\": \"LINEITEM\", \"pattern\":[{\"POS\": {\"IN\":[\"NUM\",\"X\"]}}, {\"POS\":\"NOUN\" }, {\"POS\":\"NOUN\" }, {\"POS\":\"PROPN\"}, {\"POS\":\"PROPN\"}, {\"POS\":\"PROPN\"}, {\"POS\": {\"IN\":[\"NUM\",\"X\"]}}],\"id\":\"LINEITEM\"},\n",
    "                     {\"label\": \"LINEITEM\", \"pattern\":[{\"POS\": {\"IN\":[\"NUM\",\"X\"]}}, {\"POS\":{\"IN\":[\"NOUN\", \"PROPN\"]}}, {\"POS\":{\"IN\":[\"NOUN\", \"VERB\"]} }, {\"POS\": {\"IN\":[\"NUM\",\"X\"]}}],\"id\":\"LINEITEM\"},\n",
    "                     {\"label\": \"LINEITEM\", \"pattern\":[{\"POS\": {\"IN\":[\"NUM\",\"X\"]}}, {\"POS\":\"PROPN\"}, {\"POS\":\"PROPN\"}, {\"POS\":\"PROPN\"}, {\"POS\":\"PROPN\"}, {\"POS\":\"PROPN\"}, {\"POS\": {\"IN\":[\"NUM\",\"X\"]}}],\"id\":\"LINEITEM\"},\n",
    "                     {\"label\": \"LINEITEM\", \"pattern\":[{\"POS\": {\"IN\":[\"NUM\",\"X\"]}}, {\"POS\":\"PROPN\"}, {\"POS\":\"PROPN\"}, {\"POS\":{\"REGEX\":\"[NOUN VERB PROPN]\"} }, {\"POS\": {\"IN\":[\"NUM\",\"X\"]}}],\"id\":\"LINEITEM\"},\n",
    "                     \n",
    "                     #some missing values of psm6[44]\n",
    "                     {\"label\": \"LINEITEM\", \"pattern\":[{\"POS\":{\"IN\":[\"NUM\",\"X\"]}}, {\"POS\":{\"IN\":[\"NOUN\", \"PROPN\"]}}, {\"POS\":{\"IN\":[\"NOUN\", \"PROPN\"]}}, {\"POS\":{\"IN\":[\"NUM\",\"X\"]}}],\"id\":\"LINEITEM\"},\n",
    "                     {\"label\": \"LINEITEM\", \"pattern\":[{\"POS\":{\"IN\":[\"NUM\",\"X\"]}}, {\"POS\":{\"IN\":[\"NOUN\",\"PROPN\"]}},  {\"POS\":{\"IN\":[\"NUM\",\"X\"]}}],\"id\":\"LINEITEM\"},\n",
    "                     {\"label\": \"LINEITEM\", \"pattern\":[{\"POS\":{\"IN\":[\"NUM\",\"X\"]}}, {\"POS\":\"PROPN\"}, {\"POS\":\"PROPN\"}, {\"POS\":\"PROPN\" }, {\"POS\":\"NOUN\"}, {\"POS\":{\"IN\":[\"NUM\",\"X\"]}}],\"id\":\"LINEITEM\"},\n",
    "\n",
    "                    ])\n",
    "ruler.to_disk(\"./patterns.jsonl\")\n",
    "nlp.add_pipe(ruler)"
   ]
  },
  {
   "cell_type": "code",
   "execution_count": 47,
   "metadata": {},
   "outputs": [],
   "source": [
    "ruler = EntityRuler(nlp,overwrite_ents=True)\n",
    "ruler.from_disk('./patterns.jsonl')\n",
    "nlp.add_pipe(ruler)"
   ]
  },
  {
   "cell_type": "code",
   "execution_count": 99,
   "metadata": {},
   "outputs": [
    {
     "name": "stdout",
     "output_type": "stream",
     "text": [
      "C.E.B. UK Ltd. ------> ORG\n",
      "3 ------> CARDINAL\n",
      "Johnson Road ------> FAC\n",
      "London ------> GPE\n",
      "Tel: +44 ------> PHONE\n",
      "Invoice date: 28/08/2019 ------> INVOICEDATE\n",
      "Invoice Number: ------> INVOICE\n",
      "30 days ------> DATE\n",
      "27/09/2019 ------> INVOICEDATE\n",
      "GBP ------> ORG\n",
      "4500000873 ------> CARDINAL\n",
      "Innovate UK LTD ------> ORG\n",
      "Innovate UK LTD ------> ORG\n",
      "Dashwood House ------> ORG\n",
      "London London ------> GPE\n",
      "EC2M 1QS EC2M ------> ORG\n",
      "2 ------> CARDINAL\n",
      "34.50 £69.00 ------> MONEY\n",
      "5 ------> CARDINAL\n",
      "120.00 £600.00 ------> MONEY\n",
      "8 ------> CARDINAL\n",
      "0.00 ------> MONEY\n",
      "0.00 ------> MONEY\n",
      "20 % ------> PERCENT\n",
      "215.40 ------> MONEY\n",
      "1,292.40 ------> MONEY\n",
      "Bank: Royal Bank ------> BANKNAME\n",
      "Email: — ------> EMAIL\n",
      "info@ceb-online.uk ------> EMAIL\n"
     ]
    }
   ],
   "source": [
    "for n,a in enumerate(str(testInv2).split('\\n')):\n",
    "    doc=nlp(a)\n",
    "    [print(ent.text+\" ------> \"+ent.label_ )for ent in doc.ents ]"
   ]
  },
  {
   "cell_type": "code",
   "execution_count": 93,
   "metadata": {},
   "outputs": [
    {
     "name": "stdout",
     "output_type": "stream",
     "text": [
      "1 Storage Charges 550.00\n",
      "2 Aggregation Charges 450.00\n",
      "3 Handling Charges 1200.00\n",
      "4 Power Surcharge 250.00\n",
      "5 FuelSurcharge 350.00\n",
      "6 Insurance Charges 500.00\n",
      "8 Documentation Charges 500.00\n",
      "9 RFID Monitoring Charges 25.00\n",
      "10 Service Tax @14.00% 564.00\n",
      "11 Swachh Bharat Cess @0.50% 21.00\n",
      "12 Krishi Kalyan Cess @0.50% 21.00\n",
      "Container No: SEGU 159291-6 20' Packages: 1 PLT/C Debit\n",
      "Line : 282-2 Gr.Wt.: 195.98 Kgs Customs Doc: Submitted\n",
      "Destuffed: 15.04.2017 Grid: 1 WO No: 2041\n"
     ]
    }
   ],
   "source": [
    "#doc = nlp(str(testInv))\n",
    "#Line Items\n",
    "for n,a in enumerate(str(psm6[44]).split('\\n')):\n",
    "    doc = nlp(a)\n",
    "    #print(a)\n",
    "    #print(n)\n",
    "    tokens = [token.text for token in doc if not token.is_stop and not token.is_punct]\n",
    "    cleanedStr=\" \".join(tokens)\n",
    "    docc = nlp(cleanedStr)\n",
    "    for ent in docc.ents:\n",
    "        if ent.label_==\"LINEITEM\":\n",
    "            print(a)"
   ]
  },
  {
   "cell_type": "code",
   "execution_count": 94,
   "metadata": {},
   "outputs": [
    {
     "name": "stdout",
     "output_type": "stream",
     "text": [
      "Invoice\n"
     ]
    }
   ],
   "source": [
    "def findInvDate(inv):\n",
    "    rulerdoc = nlp(str(inv))\n",
    "    testlist=([(ent.text, ent.label_, ent.start) for ent in rulerdoc.ents if ent.label_=='INVOICEDATE' or ent.label_=='DATE'])\n",
    "    for a in testlist:\n",
    "        index=a[2]\n",
    "        wordsBefore =[]\n",
    "        for i in range(1,11):\n",
    "            wordsBefore.append(str(rulerdoc.__getitem__(index-i)).lower())\n",
    "            if \"invoice\" in wordsBefore:\n",
    "                return rulerdoc.__getitem__(index)\n",
    "print(findInvDate(psm6[44]))"
   ]
  },
  {
   "cell_type": "code",
   "execution_count": 95,
   "metadata": {},
   "outputs": [
    {
     "name": "stdout",
     "output_type": "stream",
     "text": [
      "INR\n"
     ]
    }
   ],
   "source": [
    "def currency(invText):\n",
    "    doc=nlp(str(invText))\n",
    "    inr=['Rs.','Rupees','INR','Rs']\n",
    "    usd=['Dollar','Dollars','USD']\n",
    "    aud=['AUD']\n",
    "    gbp=['GBP']\n",
    "    curr={}\n",
    "    val=''\n",
    "    curr[\"INR\"]=len([x.text for x in doc if x.text in inr])\n",
    "    curr[\"USD\"]=len([x.text for x in doc if x.text in usd])\n",
    "    curr[\"AUD\"]=len([x.text for x in doc if x.text in aud])\n",
    "    curr[\"GBP\"]=len([x.text for x in doc if x.text in gbp])\n",
    "    maximum =max(curr, key=curr.get)\n",
    "    #print(maximum)\n",
    "    #print('\\n')\n",
    "    return maximum\n",
    "print(currency(psm6[44]))"
   ]
  },
  {
   "cell_type": "code",
   "execution_count": null,
   "metadata": {},
   "outputs": [],
   "source": []
  },
  {
   "cell_type": "code",
   "execution_count": 96,
   "metadata": {},
   "outputs": [
    {
     "name": "stdout",
     "output_type": "stream",
     "text": [
      "Vendor ['Triway Container Freight Station Pvt Ltd.', 'Edayanchavadi', 'Ponneri High Road', 'ATTERIES LTD', 'SRS', 'PVT LTD', 'NO16 / S1', 'MOOTAIKARAN STREET Invoice', 'L02130/2017 - 18']\n",
      "Company ['RFID', 'Krishi Kalyan Cess @0.50', 'SYNERGY CARGO', 'PVT', 'AMIGL170097756A / \\n Cargo', 'SEGU', 'PLT / C Debit \\n Line', 'Destuffed', 'Triway Container Freight Station']\n"
     ]
    }
   ],
   "source": [
    "#Company Name\n",
    "doc = nlp(str(psm6[44]))\n",
    "    #matches = matcher(doc)\n",
    "tokens=[t.text for t in doc]\n",
    "\n",
    "j=[t.i for t in doc if t.text.lower() in ['party:-','to']]\n",
    "k=[t.i for t in doc if t.text.lower() in ['particulars','description']]\n",
    "\n",
    "if len(j)>0:\n",
    "    part1=' '.join(tokens[0:j[len(j)-1]])\n",
    "    doc1=nlp(part1)\n",
    "\n",
    "    \"\"\"if len(j)>1:\n",
    "        part2=' '.join(tokens[j[0]:j[1]])\n",
    "        doc2=nlp(part2)\"\"\"\n",
    "    if len(k)>0:\n",
    "        part2=' '.join(tokens[j[0]:k[0]])\n",
    "        doc2=nlp(part2)\n",
    "    else:\n",
    "        part2=' '.join(tokens[j[0]:])\n",
    "        doc2=nlp(part2)\n",
    "else:\n",
    "    part1=' '.join(tokens[0:k[0]])\n",
    "    doc1=nlp(part1)\n",
    "    part2=' '.join(tokens[k[0]:])\n",
    "    doc2=nlp(part2)\n",
    "\n",
    "vendor=[]\n",
    "company=[]\n",
    "for t1 in doc1.sents:\n",
    "    docv=nlp(t1.text)\n",
    "\n",
    "    [vendor.append(a.text) for a in docv.ents if a.label_==\"ORG\"]\n",
    "    #[print(a.text) for a in docv.ents if a.label_==\"ORG\"]\n",
    "\n",
    "for t2 in doc2.sents:\n",
    "    docc=nlp(t2.text)\n",
    "    [company.append(b.text) for b in docc.ents if b.label_==\"ORG\"]\n",
    "    #[print(b.text) for b in docc.ents if b.label_==\"ORG\"]\n",
    "print(\"Vendor\",vendor)\n",
    "print(\"Company\",company)"
   ]
  },
  {
   "cell_type": "code",
   "execution_count": 90,
   "metadata": {},
   "outputs": [
    {
     "ename": "IndexError",
     "evalue": "list index out of range",
     "output_type": "error",
     "traceback": [
      "\u001b[1;31m---------------------------------------------------------------------------\u001b[0m",
      "\u001b[1;31mIndexError\u001b[0m                                Traceback (most recent call last)",
      "\u001b[1;32m<ipython-input-90-9e6ae2f0adc3>\u001b[0m in \u001b[0;36m<module>\u001b[1;34m\u001b[0m\n\u001b[0;32m     21\u001b[0m         \u001b[0mdoc2\u001b[0m\u001b[1;33m=\u001b[0m\u001b[0mnlp\u001b[0m\u001b[1;33m(\u001b[0m\u001b[0mpart2\u001b[0m\u001b[1;33m)\u001b[0m\u001b[1;33m\u001b[0m\u001b[1;33m\u001b[0m\u001b[0m\n\u001b[0;32m     22\u001b[0m \u001b[1;32melse\u001b[0m\u001b[1;33m:\u001b[0m\u001b[1;33m\u001b[0m\u001b[1;33m\u001b[0m\u001b[0m\n\u001b[1;32m---> 23\u001b[1;33m     \u001b[0mpart1\u001b[0m\u001b[1;33m=\u001b[0m\u001b[1;34m' '\u001b[0m\u001b[1;33m.\u001b[0m\u001b[0mjoin\u001b[0m\u001b[1;33m(\u001b[0m\u001b[0mtokens\u001b[0m\u001b[1;33m[\u001b[0m\u001b[1;36m0\u001b[0m\u001b[1;33m:\u001b[0m\u001b[0mk\u001b[0m\u001b[1;33m[\u001b[0m\u001b[1;36m0\u001b[0m\u001b[1;33m]\u001b[0m\u001b[1;33m]\u001b[0m\u001b[1;33m)\u001b[0m\u001b[1;33m\u001b[0m\u001b[1;33m\u001b[0m\u001b[0m\n\u001b[0m\u001b[0;32m     24\u001b[0m     \u001b[0mdoc1\u001b[0m\u001b[1;33m=\u001b[0m\u001b[0mnlp\u001b[0m\u001b[1;33m(\u001b[0m\u001b[0mpart1\u001b[0m\u001b[1;33m)\u001b[0m\u001b[1;33m\u001b[0m\u001b[1;33m\u001b[0m\u001b[0m\n\u001b[0;32m     25\u001b[0m     \u001b[0mpart2\u001b[0m\u001b[1;33m=\u001b[0m\u001b[1;34m' '\u001b[0m\u001b[1;33m.\u001b[0m\u001b[0mjoin\u001b[0m\u001b[1;33m(\u001b[0m\u001b[0mtokens\u001b[0m\u001b[1;33m[\u001b[0m\u001b[0mk\u001b[0m\u001b[1;33m[\u001b[0m\u001b[1;36m0\u001b[0m\u001b[1;33m]\u001b[0m\u001b[1;33m:\u001b[0m\u001b[1;33m]\u001b[0m\u001b[1;33m)\u001b[0m\u001b[1;33m\u001b[0m\u001b[1;33m\u001b[0m\u001b[0m\n",
      "\u001b[1;31mIndexError\u001b[0m: list index out of range"
     ]
    }
   ],
   "source": [
    "#Bank Name\n",
    "doc = nlp(str(psm6[0]))\n",
    "    #matches = matcher(doc)\n",
    "tokens=[t.text for t in doc]\n",
    "\n",
    "j=[t.i for t in doc if t.text.lower() in ['bank details','bank']]\n",
    "k=[t.i for t in doc if t.text.lower() in ['account','branch','code']]\n",
    "\n",
    "if len(j)>0:\n",
    "    part1=' '.join(tokens[0:j[0]])\n",
    "    doc1=nlp(part1)\n",
    "\n",
    "    if len(j)>1:\n",
    "        part2=' '.join(tokens[j[0]:j[1]])\n",
    "        doc2=nlp(part2)\n",
    "    elif len(k)>0:\n",
    "        part2=' '.join(tokens[j[0]:k[0]])\n",
    "        doc2=nlp(part2)\n",
    "    else:\n",
    "        part2=' '.join(tokens[j[0]:])\n",
    "        doc2=nlp(part2)\n",
    "else:\n",
    "    part1=' '.join(tokens[0:k[0]])\n",
    "    doc1=nlp(part1)\n",
    "    part2=' '.join(tokens[k[0]:])\n",
    "    doc2=nlp(part2)\n",
    "\n",
    "vendor=[]\n",
    "company=[]\n",
    "for t1 in doc1.sents:\n",
    "    docv=nlp(t1.text)\n",
    "\n",
    "    [vendor.append(a.text) for a in docv.ents if a.label_==\"ORG\"]\n",
    "    #[print(a.text) for a in docv.ents if a.label_==\"ORG\"]\n",
    "\n",
    "for t2 in doc2.sents:\n",
    "    docc=nlp(t2.text)\n",
    "    [company.append(b.text) for b in docc.ents if b.label_==\"ORG\"]\n",
    "    #[print(b.text) for b in docc.ents if b.label_==\"ORG\"]\n",
    "print(\"Vendor\",vendor)\n",
    "print(\"Company\",company)"
   ]
  },
  {
   "cell_type": "code",
   "execution_count": null,
   "metadata": {},
   "outputs": [],
   "source": []
  },
  {
   "cell_type": "code",
   "execution_count": null,
   "metadata": {},
   "outputs": [],
   "source": []
  },
  {
   "cell_type": "code",
   "execution_count": null,
   "metadata": {},
   "outputs": [],
   "source": []
  },
  {
   "cell_type": "code",
   "execution_count": null,
   "metadata": {},
   "outputs": [],
   "source": []
  },
  {
   "cell_type": "code",
   "execution_count": null,
   "metadata": {},
   "outputs": [],
   "source": [
    "matcher = Matcher(nlp.vocab)\n",
    "\n",
    "matcher.add(\"Line\", None,\n",
    "            #psm6[0]\n",
    "            [{\"POS\": {\"IN\":[\"NUM\",\"X\"]}}, {\"POS\":\"PROPN\"}, {\"POS\":\"PROPN\"}, {\"POS\":\"PROPN\"}, {\"POS\":\"PROPN\"}, {\"POS\": {\"IN\":[\"NUM\",\"X\"]}}],\n",
    "            [{\"POS\": {\"IN\":[\"NUM\",\"X\"]}}, {\"POS\":\"PROPN\"}, {\"POS\":\"PROPN\"}, {\"POS\":\"NOUN\" }, {\"POS\":\"NOUN \"}, {\"POS\": {\"IN\":[\"NUM\",\"X\"]}}],\n",
    "            [{\"POS\": {\"IN\":[\"NUM\",\"X\"]}}, {\"POS\":\"PROPN\"}, {\"POS\":\"PROPN\"}, {\"POS\":{\"REGEX\":\"[NOUN VERB]\"} }, {\"POS\":\"PROPN\"}, {\"POS\": {\"IN\":[\"NUM\",\"X\"]}}],\n",
    "            [{\"POS\": {\"IN\":[\"NUM\",\"X\"]}}, {\"POS\":\"NOUN\" }, {\"POS\":\"NOUN\" }, {\"POS\":\"PROPN\"}, {\"POS\":\"PROPN\"}, {\"POS\":\"PROPN\"}, {\"POS\": {\"IN\":[\"NUM\",\"X\"]}}],\n",
    "            [{\"POS\": {\"IN\":[\"NUM\",\"X\"]}}, {\"POS\":{\"IN\":[\"NOUN\", \"PROPN\"]}}, {\"POS\":{\"IN\":[\"NOUN\", \"VERB\"]} }, {\"POS\": {\"IN\":[\"NUM\",\"X\"]}}],\n",
    "            [{\"POS\": {\"IN\":[\"NUM\",\"X\"]}}, {\"POS\":\"PROPN\"}, {\"POS\":\"PROPN\"}, {\"POS\":\"PROPN\"}, {\"POS\":\"PROPN\"}, {\"POS\":\"PROPN\"}, {\"POS\": {\"IN\":[\"NUM\",\"X\"]}}],\n",
    "            [{\"POS\": {\"IN\":[\"NUM\",\"X\"]}}, {\"POS\":\"PROPN\"}, {\"POS\":\"PROPN\"}, {\"POS\":{\"REGEX\":\"[NOUN VERB PROPN]\"} }, {\"POS\": {\"IN\":[\"NUM\",\"X\"]}}],\n",
    "            \n",
    "            #some missing values of psm6[44]\n",
    "            [{\"POS\":{\"IN\":[\"NUM\",\"X\"]}}, {\"POS\":{\"IN\":[\"NOUN\", \"PROPN\"]}}, {\"POS\":{\"IN\":[\"NOUN\", \"PROPN\"]}}, {\"POS\":{\"IN\":[\"NUM\",\"X\"]}}],\n",
    "            [{\"POS\":{\"IN\":[\"NUM\",\"X\"]}}, {\"POS\":{\"REGEX\":\"NOUN|PROPN\"}},  {\"POS\":{\"IN\":[\"NUM\",\"X\"]}}],\n",
    "            [{\"POS\":{\"IN\":[\"NUM\",\"X\"]}}, {\"POS\":\"PROPN\"}, {\"POS\":\"PROPN\"}, {\"POS\":\"PROPN\" }, {\"POS\":\"NOUN\"}, {\"POS\":{\"IN\":[\"NUM\",\"X\"]}}],\n",
    "            \n",
    "            \n",
    "            \n",
    "           )\n",
    "litdict={}\n",
    "for t,y in enumerate(psm6):\n",
    "    print(\"Invoice  \"+str(t)+'\\n')\n",
    "    \n",
    "    for n,a in enumerate(str(y).split('\\n')):\n",
    "        doc = nlp(str(a))\n",
    "        tokens = [token.text for token in doc if not token.is_stop and not token.is_punct]\n",
    "        tokens2 = [(token.text,token.pos_) for token in doc if not token.is_stop and not token.is_punct]\n",
    "        #print(tokens2)\n",
    "        cleanedStr=\" \".join(tokens)\n",
    "        doc2 = nlp(cleanedStr)\n",
    "        matches = matcher(doc2)\n",
    "        #print(\"Tokens\", [t.text for t in doc])\n",
    "        \n",
    "\n",
    "        for match_id, start, end in matches:\n",
    "            string_id = nlp.vocab.strings[match_id]  # Get string representation\n",
    "            span = doc2[start:end]  # The matched span\n",
    "            spa.append(a)\n",
    "            #print( string_id, span.text )\n",
    "            print( a)\n",
    "    \n",
    "    print('\\n')\n",
    "    "
   ]
  },
  {
   "cell_type": "code",
   "execution_count": null,
   "metadata": {},
   "outputs": [],
   "source": [
    "doc = nlp(str(testInv))\n",
    "\n",
    "print([(ent.text, ent.pos_, ) for ent in doc])"
   ]
  },
  {
   "cell_type": "code",
   "execution_count": null,
   "metadata": {},
   "outputs": [],
   "source": []
  }
 ],
 "metadata": {
  "kernelspec": {
   "display_name": "Python 3",
   "language": "python",
   "name": "python3"
  },
  "language_info": {
   "codemirror_mode": {
    "name": "ipython",
    "version": 3
   },
   "file_extension": ".py",
   "mimetype": "text/x-python",
   "name": "python",
   "nbconvert_exporter": "python",
   "pygments_lexer": "ipython3",
   "version": "3.7.1"
  }
 },
 "nbformat": 4,
 "nbformat_minor": 2
}
