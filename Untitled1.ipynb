{
 "cells": [
  {
   "cell_type": "code",
   "execution_count": null,
   "metadata": {},
   "outputs": [],
   "source": [
    "from PIL import Image\n",
    "import pytesseract\n",
    "import argparse\n",
    "import cv2\n",
    "import os\n",
    "from pdf2image import convert_from_path\n",
    "import nltk\n",
    "import spacy\n",
    "from spacy.gold import GoldParse \n",
    "from spacy.language import EntityRecognizer \n",
    "from spacy import displacy\n",
    "import pandas as pd\n",
    "nlp = spacy.load(\"en_core_web_md\")"
   ]
  },
  {
   "cell_type": "code",
   "execution_count": null,
   "metadata": {},
   "outputs": [],
   "source": [
    "data=pd.read_csv(\"../VIM/data3.csv\")"
   ]
  },
  {
   "cell_type": "code",
   "execution_count": null,
   "metadata": {},
   "outputs": [],
   "source": [
    "psm6=data.iloc[0:,4:]\n",
    "psm6=list(psm6.Text3)"
   ]
  },
  {
   "cell_type": "code",
   "execution_count": null,
   "metadata": {},
   "outputs": [],
   "source": [
    "matcher = Matcher(nlp.vocab)\n",
    "# Add match ID \"HelloWorld\" with no callback and one pattern\n",
    "pattern = [{\"LOWER\": \"invoice\"}, {\"IS_PUNCT\": True}, {\"LOWER\": \"No\"},{\"LOWER\":\"invoice no\"}]\n",
    "matcher.add(\"Phone\", None,\n",
    "            #[{\"ORTH\": \"Ph\"}, {\"ORTH\": \":\"}, {}],\n",
    "            #[{\"ORTH\": \"Phone\"}, {\"ORTH\": \":\"}, {}],          \n",
    "            #[{\"ORTH\": \"Tel\"}, {\"ORTH\": \":\"}, {}],\n",
    "            ##do not touch[{\"ORTH\": \"Ph\"}, {\"ORTH\": \":\"}, {\"ORTH\":{\"REGEX\":\"^(\\+\\d{0,10}\\s)?\\(?\\d{0,10}\\)?[\\s.-]?\\d{0,10}[\\s.-]?\\d{0,10}$\"}}] working do not touch\n",
    "            #[{\"ORTH\": \"Phone\"}, {\"ORTH\": \":\"}, {\"ORTH\":{\"REGEX\":\"^(\\+\\d{0,10}\\s)?\\(?\\d{0,10}\\)?[\\s.-]?\\d{0,10}[\\s.-]?\\d{0,10}$\"}}],\n",
    "            #[{\"ORTH\": \"Ph\"}, {\"ORTH\": \":\"}, {\"ORTH\":{\"REGEX\":\"^\\s*(\\+\\s*\\d{0,10})?\\(?\\d{0,10}\\)?[\\s.-]?\\d{0,10}[\\s.-]?\\d{0,10}$\"}}],\n",
    "            #[{\"ORTH\": \"Tel\"}, {\"ORTH\": \":\"}, {\"ORTH\":{\"REGEX\":\"^\\s*(\\+\\s*\\d{0,10})?\\(?\\d{0,10}\\)?[\\s.-]?\\d{0,10}[\\s.-]?\\d{0,10}$\"}}],\n",
    "            \n",
    "            \n",
    "            #space and std landline pattern\n",
    "            [{\"ORTH\": \"Ph\"}, {\"ORTH\": \":\"},  {\"ORTH\":{\"REGEX\":\"\\d\"}},{\"ORTH\": \"-\"},  {\"ORTH\":{\"REGEX\":\"\\d\"}}],\n",
    "            [{\"ORTH\": \"Tel\"}, {\"ORTH\": \":\"},  {\"ORTH\":{\"REGEX\":\"\\d\"}},{\"ORTH\": \"-\"},  {\"ORTH\":{\"REGEX\":\"\\d\"}}],\n",
    "            [{\"ORTH\": \"Phone\"}, {\"ORTH\": \":\"},  {\"ORTH\":{\"REGEX\":\"\\d\"}},{\"ORTH\": \"-\"},  {\"ORTH\":{\"REGEX\":\"\\d\"}}],\n",
    "            \n",
    "            #space and mobile pattern\n",
    "            [{\"ORTH\": \"Ph\"}, {\"ORTH\": \":\"},  {\"ORTH\":{\"REGEX\":\"\\d\"}}],\n",
    "            [{\"ORTH\": \"Phone\"}, {\"ORTH\": \":\"},  {\"ORTH\":{\"REGEX\":\"\\d\"}}],\n",
    "            [{\"ORTH\": \"Tel\"}, {\"ORTH\": \":\"},  {\"ORTH\":{\"REGEX\":\"\\d\"}}],\n",
    "            \n",
    "            #No space landline pattern\n",
    "            [ {\"ORTH\":{\"REGEX\":\"(Ph:\\d{0,3})\"}},{\"ORTH\": \"-\"},  {\"ORTH\":{\"REGEX\":\"\\d\"}}],\n",
    "            [ {\"ORTH\":{\"REGEX\":\"(Phone:\\d{0,3})\"}},{\"ORTH\": \"-\"},  {\"ORTH\":{\"REGEX\":\"\\d\"}}],\n",
    "            [ {\"ORTH\":{\"REGEX\":\"(Tel:\\d{0,3})\"}},{\"ORTH\": \"-\"},  {\"ORTH\":{\"REGEX\":\"\\d\"}}],\n",
    "            \n",
    "            #No space landline pattern2\n",
    "            [{\"ORTH\": \"Phone\"}, {\"ORTH\": \":\"},  {\"ORTH\":{\"REGEX\":\"\\d\"}},{\"ORTH\": \"-\"},  {\"ORTH\":{\"REGEX\":\"\\d\"}},{\"ORTH\": \"-\"},  {\"ORTH\":{\"REGEX\":\"\\d\"}},{\"ORTH\":{\"REGEX\":\"\\d\"}}],\n",
    "            \n",
    "            #No space mobile pattern\n",
    "            [ {\"ORTH\":{\"REGEX\":\"(Ph:\\d)\"}}],\n",
    "            [ {\"ORTH\":{\"REGEX\":\"(Phone:\\d)\"}}],\n",
    "            [ {\"ORTH\":{\"REGEX\":\"(Tel:\\d)\"}}],\n",
    "           )\n",
    "b=0\n",
    "for d,a in enumerate(psm6):\n",
    "    doc = nlp(str(a))\n",
    "    matches = matcher(doc)\n",
    "    #print(\"Tokens\", [t.text for t in doc])\n",
    "    for match_id, start, end in matches:\n",
    "        string_id = nlp.vocab.strings[match_id]  # Get string representation\n",
    "        span = doc[start:end]  # The matched span\n",
    "        #print(match_id, string_id, start, end, span.text)\n",
    "        print(d, span.text)\n",
    "        b+=1\n",
    "print(b)"
   ]
  },
  {
   "cell_type": "code",
   "execution_count": null,
   "metadata": {},
   "outputs": [],
   "source": [
    "[{\"ORTH\": \"Ph\"}, {\"ORTH\": \":\"},  {\"ORTH\":{\"REGEX\":\"\\d\"}},{\"ORTH\": \"-\"},  {\"ORTH\":{\"REGEX\":\"\\d\"}}],\n",
    "[{\"ORTH\": \"Tel\"}, {\"ORTH\": \":\"},  {\"ORTH\":{\"REGEX\":\"\\d\"}},{\"ORTH\": \"-\"},  {\"ORTH\":{\"REGEX\":\"\\d\"}}],\n",
    "[{\"ORTH\": \"Phone\"}, {\"ORTH\": \":\"},  {\"ORTH\":{\"REGEX\":\"\\d\"}},{\"ORTH\": \"-\"},  {\"ORTH\":{\"REGEX\":\"\\d\"}}],\n",
    "\n",
    "#space and mobile pattern\n",
    "[{\"ORTH\": \"Ph\"}, {\"ORTH\": \":\"},  {\"ORTH\":{\"REGEX\":\"\\d\"}}],\n",
    "[{\"ORTH\": \"Phone\"}, {\"ORTH\": \":\"},  {\"ORTH\":{\"REGEX\":\"\\d\"}}],\n",
    "[{\"ORTH\": \"Tel\"}, {\"ORTH\": \":\"},  {\"ORTH\":{\"REGEX\":\"\\d\"}}],\n",
    "\n",
    "#No space landline pattern\n",
    "[ {\"ORTH\":{\"REGEX\":\"(Ph:\\d{0,3})\"}},{\"ORTH\": \"-\"},  {\"ORTH\":{\"REGEX\":\"\\d\"}}],\n",
    "[ {\"ORTH\":{\"REGEX\":\"(Phone:\\d{0,3})\"}},{\"ORTH\": \"-\"},  {\"ORTH\":{\"REGEX\":\"\\d\"}}],\n",
    "[ {\"ORTH\":{\"REGEX\":\"(Tel:\\d{0,3})\"}},{\"ORTH\": \"-\"},  {\"ORTH\":{\"REGEX\":\"\\d\"}}],\n",
    "\n",
    "#No space landline pattern2\n",
    "[{\"ORTH\": \"Phone\"}, {\"ORTH\": \":\"},  {\"ORTH\":{\"REGEX\":\"\\d\"}},{\"ORTH\": \"-\"},  {\"ORTH\":{\"REGEX\":\"\\d\"}},{\"ORTH\": \"-\"},  {\"ORTH\":{\"REGEX\":\"\\d\"}},{\"ORTH\":{\"REGEX\":\"\\d\"}}],\n",
    "[{\"ORTH\": \"Tel\"}, {\"ORTH\": \":\"},  {\"ORTH\":{\"REGEX\":\"\\d\"}},{\"ORTH\": \"-\"},  {\"ORTH\":{\"REGEX\":\"\\d\"}},  {\"ORTH\":{\"REGEX\":\"\\d\"}}],\n",
    "\n",
    "\n",
    "#No space mobile pattern\n",
    "[ {\"ORTH\":{\"REGEX\":\"(Ph:\\d)\"}}],\n",
    "[ {\"ORTH\":{\"REGEX\":\"(Phone:\\d)\"}}],\n",
    "[ {\"ORTH\":{\"REGEX\":\"(Tel:\\d)\"}}]"
   ]
  },
  {
   "cell_type": "code",
   "execution_count": null,
   "metadata": {},
   "outputs": [],
   "source": []
  },
  {
   "cell_type": "code",
   "execution_count": null,
   "metadata": {},
   "outputs": [],
   "source": []
  },
  {
   "cell_type": "code",
   "execution_count": null,
   "metadata": {},
   "outputs": [],
   "source": [
    "#nlp.remove_pipe(\"entity_ruler\")\n",
    "ruler = EntityRuler(nlp,overwrite_ents=True)\n",
    "ruler.add_patterns([{\"label\": \"Phone\", \"pattern\": [{\"ORTH\": \"Tel\"}, {\"ORTH\": \":\"}, {\"ORTH\":{\"REGEX\":\"\\d\"}},{\"ORTH\": \"-\"},  {\"ORTH\":{\"REGEX\":\"\\d\"}},  {\"ORTH\":{\"REGEX\":\"\\d\"}}], \"id\":\"phone\"},\n",
    "                     {\"label\": \"Phone\", \"pattern\": [{\"ORTH\": \"Ph\"}, {\"ORTH\": \":\"},  {\"ORTH\":{\"REGEX\":\"\\d\"}},{\"ORTH\": \"-\"},  {\"ORTH\":{\"REGEX\":\"\\d\"}}],\"id\":\"phone\"},\n",
    "                     {\"label\": \"Phone\", \"pattern\": [{\"ORTH\": \"Tel\"}, {\"ORTH\": \":\"},  {\"ORTH\":{\"REGEX\":\"\\d\"}},{\"ORTH\": \"-\"},  {\"ORTH\":{\"REGEX\":\"\\d\"}}],\"id\":\"phone\"},\n",
    "                     {\"label\": \"Phone\", \"pattern\": [{\"ORTH\": \"Phone\"}, {\"ORTH\": \":\"},  {\"ORTH\":{\"REGEX\":\"\\d\"}},{\"ORTH\": \"-\"},  {\"ORTH\":{\"REGEX\":\"\\d\"}}],\"id\":\"phone\"},\n",
    "\n",
    "                      #space and mobile pattern\n",
    "                     {\"label\": \"Phone\", \"pattern\": [{\"ORTH\": \"Ph\"}, {\"ORTH\": \":\"},  {\"ORTH\":{\"REGEX\":\"\\d\"}}],\"id\":\"phone\"},\n",
    "                     {\"label\": \"Phone\", \"pattern\": [{\"ORTH\": \"Phone\"}, {\"ORTH\": \":\"},  {\"ORTH\":{\"REGEX\":\"\\d\"}}],\"id\":\"phone\"},\n",
    "                     {\"label\": \"Phone\", \"pattern\": [{\"ORTH\": \"Tel\"}, {\"ORTH\": \":\"},  {\"ORTH\":{\"REGEX\":\"\\d\"}}],\"id\":\"phone\"},\n",
    "\n",
    "                      #No space landline pattern\n",
    "                     {\"label\": \"Phone\", \"pattern\": [ {\"ORTH\":{\"REGEX\":\"(Ph:\\d{0,3})\"}},{\"ORTH\": \"-\"},  {\"ORTH\":{\"REGEX\":\"\\d\"}}],\"id\":\"phone\"},\n",
    "                     {\"label\": \"Phone\", \"pattern\": [ {\"ORTH\":{\"REGEX\":\"(Phone:\\d{0,3})\"}},{\"ORTH\": \"-\"},  {\"ORTH\":{\"REGEX\":\"\\d\"}}],\"id\":\"phone\"},\n",
    "                     {\"label\": \"Phone\", \"pattern\": [ {\"ORTH\":{\"REGEX\":\"(Tel:\\d{0,3})\"}},{\"ORTH\": \"-\"},  {\"ORTH\":{\"REGEX\":\"\\d\"}}],\"id\":\"phone\"},\n",
    "\n",
    "                      #No space landline pattern2\n",
    "                     {\"label\": \"Phone\", \"pattern\": [{\"ORTH\": \"Phone\"}, {\"ORTH\": \":\"},  {\"ORTH\":{\"REGEX\":\"\\d\"}},{\"ORTH\": \"-\"},  {\"ORTH\":{\"REGEX\":\"\\d\"}},{\"ORTH\": \"-\"},  {\"ORTH\":{\"REGEX\":\"\\d\"}},{\"ORTH\":{\"REGEX\":\"\\d\"}}],\"id\":\"phone\"},\n",
    "                     {\"label\": \"Phone\", \"pattern\": [{\"ORTH\": \"Tel\"}, {\"ORTH\": \":\"},  {\"ORTH\":{\"REGEX\":\"\\d\"}},{\"ORTH\": \"-\"},  {\"ORTH\":{\"REGEX\":\"\\d\"}},  {\"ORTH\":{\"REGEX\":\"\\d\"}}],\"id\":\"phone\"},\n",
    "                      #No space mobile pattern\n",
    "                     {\"label\": \"Phone\", \"pattern\": [ {\"ORTH\":{\"REGEX\":\"(Ph:\\d)\"}}],\"id\":\"phone\"},\n",
    "                     {\"label\": \"Phone\", \"pattern\": [ {\"ORTH\":{\"REGEX\":\"(Phone:\\d)\"}}],\"id\":\"phone\"},\n",
    "                     {\"label\": \"Phone\", \"pattern\": [ {\"ORTH\":{\"REGEX\":\"(Tel:\\d)\"}}],\"id\":\"phone\"}\n",
    "                    ])\n",
    "nlp.add_pipe(ruler)\n",
    "\n",
    "c=0\n",
    "for a,b in enumerate(psm6):\n",
    "    doc = nlp(str(b))\n",
    "    #ents = [(ent.text, ent.label_) for ent in doc.ents]\n",
    "    print(\"DOC NO: \",a)\n",
    "    print([(ent.text, ent.label_, ent.ent_id_) for ent in doc.ents])\n",
    "    c+=1\n",
    "print(c)"
   ]
  }
 ],
 "metadata": {
  "kernelspec": {
   "display_name": "Python 3",
   "language": "python",
   "name": "python3"
  },
  "language_info": {
   "codemirror_mode": {
    "name": "ipython",
    "version": 3
   },
   "file_extension": ".py",
   "mimetype": "text/x-python",
   "name": "python",
   "nbconvert_exporter": "python",
   "pygments_lexer": "ipython3",
   "version": "3.7.1"
  }
 },
 "nbformat": 4,
 "nbformat_minor": 2
}
